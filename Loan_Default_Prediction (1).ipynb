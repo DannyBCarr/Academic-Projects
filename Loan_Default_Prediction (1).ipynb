{
  "cells": [
    {
      "cell_type": "markdown",
      "metadata": {
        "id": "qdOr1R7sBCC3"
      },
      "source": [
        "# Group Members:Brando,Danny, Aleema, Logan\n",
        "We've identified loan defaults as a significant issue leading to financial losses for banks, financial institutions, and governments, based on data insights from Coursera's data science coding challenge. Our solution aims to address this challenge by implementing predictive models and risk mitigation strategies in the loan approval process, utilizing the insights gained from this valuable data. The existing debt collection industry, is only successful in recovering a 20-30% of the owed debt. This issued has created billions of dollars worth of defaulted loans at stake for these institutions. The social implications for debtors are also noteworthy, as defaulted loans can negatively impact individuals' credit scores and financial well-being.\n",
        "\n",
        "The proposed solution involves leveraging predictive analytics and machine learning techniques we've learned in class to develop a model capable of identifying individuals likely to default on loans. By implementing such a model, lending institutions can make more informed decisions about loan approvals, thereby reducing the overall rate of defaults. This has direct financial benefits for the institutions, as they can minimize losses associated with defaulted loans and potentially increase their overall loan portfolio performance. Additionally, the solution has broader social implications, as it promotes responsible lending practices, helps protect individuals from potential financial distress, and contributes to the overall stability of the financial system."
      ]
    },
    {
      "cell_type": "code",
      "execution_count": null,
      "metadata": {
        "id": "7ujsV2k293aJ"
      },
      "outputs": [],
      "source": [
        "import pandas as pd\n",
        "import seaborn as sns\n",
        "from sklearn.model_selection import train_test_split\n",
        "from sklearn.linear_model import LogisticRegression\n",
        "import numpy as np\n",
        "import matplotlib.pyplot as plt\n",
        "from sklearn.metrics import confusion_matrix, classification_report\n",
        "from sklearn.neighbors import KNeighborsClassifier\n",
        "from sklearn.preprocessing import MinMaxScaler\n",
        "from sklearn.model_selection import cross_val_score\n",
        "from sklearn.ensemble import RandomForestClassifier\n",
        "from sklearn.ensemble import AdaBoostClassifier\n",
        "import xgboost as xgb\n",
        "from sklearn.metrics import mean_squared_error"
      ]
    },
    {
      "cell_type": "code",
      "execution_count": null,
      "metadata": {
        "id": "yiNSbwbw4BzI"
      },
      "outputs": [],
      "source": [
        "loan=pd.read_csv('Loan_default.csv')"
      ]
    },
    {
      "cell_type": "code",
      "execution_count": null,
      "metadata": {
        "id": "pLCAOVd0_VgG"
      },
      "outputs": [],
      "source": [
        "loan=loan.sample(frac=0.05, random_state=42)"
      ]
    },
    {
      "cell_type": "code",
      "execution_count": null,
      "metadata": {
        "colab": {
          "base_uri": "https://localhost:8080/",
          "height": 261
        },
        "id": "QOrOQqi-4ULS",
        "outputId": "016bdeb5-6d39-4284-d0d6-7b8783ff7d66"
      },
      "outputs": [
        {
          "output_type": "execute_result",
          "data": {
            "text/plain": [
              "            LoanID  Age  Income  LoanAmount  CreditScore  MonthsEmployed  \\\n",
              "51139   CKV34LU7V7   55  112656       92393          581             113   \n",
              "71005   62KTYNH93J   56   91569      131575          641              54   \n",
              "35684   JGFUSOIUH7   26   78169       75417          569             105   \n",
              "174087  4538THBHOX   26   63033       10804          326             118   \n",
              "137952  DXLNA06JHR   24   29665       21182          662             102   \n",
              "\n",
              "        NumCreditLines  InterestRate  LoanTerm  DTIRatio    Education  \\\n",
              "51139                2         23.54        36      0.15          PhD   \n",
              "71005                1         15.19        12      0.43  High School   \n",
              "35684                3         18.02        12      0.29     Master's   \n",
              "174087               1         14.71        24      0.41  High School   \n",
              "137952               3         15.02        60      0.69          PhD   \n",
              "\n",
              "       EmploymentType MaritalStatus HasMortgage HasDependents LoanPurpose  \\\n",
              "51139   Self-employed        Single         Yes           Yes        Home   \n",
              "71005       Part-time      Divorced         Yes           Yes   Education   \n",
              "35684       Part-time       Married         Yes           Yes   Education   \n",
              "174087      Part-time        Single          No            No    Business   \n",
              "137952     Unemployed        Single          No           Yes    Business   \n",
              "\n",
              "       HasCoSigner  Default  \n",
              "51139           No        0  \n",
              "71005          Yes        0  \n",
              "35684          Yes        0  \n",
              "174087         Yes        0  \n",
              "137952         Yes        0  "
            ],
            "text/html": [
              "\n",
              "  <div id=\"df-dbc2217a-003b-457f-95ab-fedb7c935bac\" class=\"colab-df-container\">\n",
              "    <div>\n",
              "<style scoped>\n",
              "    .dataframe tbody tr th:only-of-type {\n",
              "        vertical-align: middle;\n",
              "    }\n",
              "\n",
              "    .dataframe tbody tr th {\n",
              "        vertical-align: top;\n",
              "    }\n",
              "\n",
              "    .dataframe thead th {\n",
              "        text-align: right;\n",
              "    }\n",
              "</style>\n",
              "<table border=\"1\" class=\"dataframe\">\n",
              "  <thead>\n",
              "    <tr style=\"text-align: right;\">\n",
              "      <th></th>\n",
              "      <th>LoanID</th>\n",
              "      <th>Age</th>\n",
              "      <th>Income</th>\n",
              "      <th>LoanAmount</th>\n",
              "      <th>CreditScore</th>\n",
              "      <th>MonthsEmployed</th>\n",
              "      <th>NumCreditLines</th>\n",
              "      <th>InterestRate</th>\n",
              "      <th>LoanTerm</th>\n",
              "      <th>DTIRatio</th>\n",
              "      <th>Education</th>\n",
              "      <th>EmploymentType</th>\n",
              "      <th>MaritalStatus</th>\n",
              "      <th>HasMortgage</th>\n",
              "      <th>HasDependents</th>\n",
              "      <th>LoanPurpose</th>\n",
              "      <th>HasCoSigner</th>\n",
              "      <th>Default</th>\n",
              "    </tr>\n",
              "  </thead>\n",
              "  <tbody>\n",
              "    <tr>\n",
              "      <th>51139</th>\n",
              "      <td>CKV34LU7V7</td>\n",
              "      <td>55</td>\n",
              "      <td>112656</td>\n",
              "      <td>92393</td>\n",
              "      <td>581</td>\n",
              "      <td>113</td>\n",
              "      <td>2</td>\n",
              "      <td>23.54</td>\n",
              "      <td>36</td>\n",
              "      <td>0.15</td>\n",
              "      <td>PhD</td>\n",
              "      <td>Self-employed</td>\n",
              "      <td>Single</td>\n",
              "      <td>Yes</td>\n",
              "      <td>Yes</td>\n",
              "      <td>Home</td>\n",
              "      <td>No</td>\n",
              "      <td>0</td>\n",
              "    </tr>\n",
              "    <tr>\n",
              "      <th>71005</th>\n",
              "      <td>62KTYNH93J</td>\n",
              "      <td>56</td>\n",
              "      <td>91569</td>\n",
              "      <td>131575</td>\n",
              "      <td>641</td>\n",
              "      <td>54</td>\n",
              "      <td>1</td>\n",
              "      <td>15.19</td>\n",
              "      <td>12</td>\n",
              "      <td>0.43</td>\n",
              "      <td>High School</td>\n",
              "      <td>Part-time</td>\n",
              "      <td>Divorced</td>\n",
              "      <td>Yes</td>\n",
              "      <td>Yes</td>\n",
              "      <td>Education</td>\n",
              "      <td>Yes</td>\n",
              "      <td>0</td>\n",
              "    </tr>\n",
              "    <tr>\n",
              "      <th>35684</th>\n",
              "      <td>JGFUSOIUH7</td>\n",
              "      <td>26</td>\n",
              "      <td>78169</td>\n",
              "      <td>75417</td>\n",
              "      <td>569</td>\n",
              "      <td>105</td>\n",
              "      <td>3</td>\n",
              "      <td>18.02</td>\n",
              "      <td>12</td>\n",
              "      <td>0.29</td>\n",
              "      <td>Master's</td>\n",
              "      <td>Part-time</td>\n",
              "      <td>Married</td>\n",
              "      <td>Yes</td>\n",
              "      <td>Yes</td>\n",
              "      <td>Education</td>\n",
              "      <td>Yes</td>\n",
              "      <td>0</td>\n",
              "    </tr>\n",
              "    <tr>\n",
              "      <th>174087</th>\n",
              "      <td>4538THBHOX</td>\n",
              "      <td>26</td>\n",
              "      <td>63033</td>\n",
              "      <td>10804</td>\n",
              "      <td>326</td>\n",
              "      <td>118</td>\n",
              "      <td>1</td>\n",
              "      <td>14.71</td>\n",
              "      <td>24</td>\n",
              "      <td>0.41</td>\n",
              "      <td>High School</td>\n",
              "      <td>Part-time</td>\n",
              "      <td>Single</td>\n",
              "      <td>No</td>\n",
              "      <td>No</td>\n",
              "      <td>Business</td>\n",
              "      <td>Yes</td>\n",
              "      <td>0</td>\n",
              "    </tr>\n",
              "    <tr>\n",
              "      <th>137952</th>\n",
              "      <td>DXLNA06JHR</td>\n",
              "      <td>24</td>\n",
              "      <td>29665</td>\n",
              "      <td>21182</td>\n",
              "      <td>662</td>\n",
              "      <td>102</td>\n",
              "      <td>3</td>\n",
              "      <td>15.02</td>\n",
              "      <td>60</td>\n",
              "      <td>0.69</td>\n",
              "      <td>PhD</td>\n",
              "      <td>Unemployed</td>\n",
              "      <td>Single</td>\n",
              "      <td>No</td>\n",
              "      <td>Yes</td>\n",
              "      <td>Business</td>\n",
              "      <td>Yes</td>\n",
              "      <td>0</td>\n",
              "    </tr>\n",
              "  </tbody>\n",
              "</table>\n",
              "</div>\n",
              "    <div class=\"colab-df-buttons\">\n",
              "\n",
              "  <div class=\"colab-df-container\">\n",
              "    <button class=\"colab-df-convert\" onclick=\"convertToInteractive('df-dbc2217a-003b-457f-95ab-fedb7c935bac')\"\n",
              "            title=\"Convert this dataframe to an interactive table.\"\n",
              "            style=\"display:none;\">\n",
              "\n",
              "  <svg xmlns=\"http://www.w3.org/2000/svg\" height=\"24px\" viewBox=\"0 -960 960 960\">\n",
              "    <path d=\"M120-120v-720h720v720H120Zm60-500h600v-160H180v160Zm220 220h160v-160H400v160Zm0 220h160v-160H400v160ZM180-400h160v-160H180v160Zm440 0h160v-160H620v160ZM180-180h160v-160H180v160Zm440 0h160v-160H620v160Z\"/>\n",
              "  </svg>\n",
              "    </button>\n",
              "\n",
              "  <style>\n",
              "    .colab-df-container {\n",
              "      display:flex;\n",
              "      gap: 12px;\n",
              "    }\n",
              "\n",
              "    .colab-df-convert {\n",
              "      background-color: #E8F0FE;\n",
              "      border: none;\n",
              "      border-radius: 50%;\n",
              "      cursor: pointer;\n",
              "      display: none;\n",
              "      fill: #1967D2;\n",
              "      height: 32px;\n",
              "      padding: 0 0 0 0;\n",
              "      width: 32px;\n",
              "    }\n",
              "\n",
              "    .colab-df-convert:hover {\n",
              "      background-color: #E2EBFA;\n",
              "      box-shadow: 0px 1px 2px rgba(60, 64, 67, 0.3), 0px 1px 3px 1px rgba(60, 64, 67, 0.15);\n",
              "      fill: #174EA6;\n",
              "    }\n",
              "\n",
              "    .colab-df-buttons div {\n",
              "      margin-bottom: 4px;\n",
              "    }\n",
              "\n",
              "    [theme=dark] .colab-df-convert {\n",
              "      background-color: #3B4455;\n",
              "      fill: #D2E3FC;\n",
              "    }\n",
              "\n",
              "    [theme=dark] .colab-df-convert:hover {\n",
              "      background-color: #434B5C;\n",
              "      box-shadow: 0px 1px 3px 1px rgba(0, 0, 0, 0.15);\n",
              "      filter: drop-shadow(0px 1px 2px rgba(0, 0, 0, 0.3));\n",
              "      fill: #FFFFFF;\n",
              "    }\n",
              "  </style>\n",
              "\n",
              "    <script>\n",
              "      const buttonEl =\n",
              "        document.querySelector('#df-dbc2217a-003b-457f-95ab-fedb7c935bac button.colab-df-convert');\n",
              "      buttonEl.style.display =\n",
              "        google.colab.kernel.accessAllowed ? 'block' : 'none';\n",
              "\n",
              "      async function convertToInteractive(key) {\n",
              "        const element = document.querySelector('#df-dbc2217a-003b-457f-95ab-fedb7c935bac');\n",
              "        const dataTable =\n",
              "          await google.colab.kernel.invokeFunction('convertToInteractive',\n",
              "                                                    [key], {});\n",
              "        if (!dataTable) return;\n",
              "\n",
              "        const docLinkHtml = 'Like what you see? Visit the ' +\n",
              "          '<a target=\"_blank\" href=https://colab.research.google.com/notebooks/data_table.ipynb>data table notebook</a>'\n",
              "          + ' to learn more about interactive tables.';\n",
              "        element.innerHTML = '';\n",
              "        dataTable['output_type'] = 'display_data';\n",
              "        await google.colab.output.renderOutput(dataTable, element);\n",
              "        const docLink = document.createElement('div');\n",
              "        docLink.innerHTML = docLinkHtml;\n",
              "        element.appendChild(docLink);\n",
              "      }\n",
              "    </script>\n",
              "  </div>\n",
              "\n",
              "\n",
              "<div id=\"df-39f79669-e6f3-4fdb-9cba-22dd255d7043\">\n",
              "  <button class=\"colab-df-quickchart\" onclick=\"quickchart('df-39f79669-e6f3-4fdb-9cba-22dd255d7043')\"\n",
              "            title=\"Suggest charts\"\n",
              "            style=\"display:none;\">\n",
              "\n",
              "<svg xmlns=\"http://www.w3.org/2000/svg\" height=\"24px\"viewBox=\"0 0 24 24\"\n",
              "     width=\"24px\">\n",
              "    <g>\n",
              "        <path d=\"M19 3H5c-1.1 0-2 .9-2 2v14c0 1.1.9 2 2 2h14c1.1 0 2-.9 2-2V5c0-1.1-.9-2-2-2zM9 17H7v-7h2v7zm4 0h-2V7h2v10zm4 0h-2v-4h2v4z\"/>\n",
              "    </g>\n",
              "</svg>\n",
              "  </button>\n",
              "\n",
              "<style>\n",
              "  .colab-df-quickchart {\n",
              "      --bg-color: #E8F0FE;\n",
              "      --fill-color: #1967D2;\n",
              "      --hover-bg-color: #E2EBFA;\n",
              "      --hover-fill-color: #174EA6;\n",
              "      --disabled-fill-color: #AAA;\n",
              "      --disabled-bg-color: #DDD;\n",
              "  }\n",
              "\n",
              "  [theme=dark] .colab-df-quickchart {\n",
              "      --bg-color: #3B4455;\n",
              "      --fill-color: #D2E3FC;\n",
              "      --hover-bg-color: #434B5C;\n",
              "      --hover-fill-color: #FFFFFF;\n",
              "      --disabled-bg-color: #3B4455;\n",
              "      --disabled-fill-color: #666;\n",
              "  }\n",
              "\n",
              "  .colab-df-quickchart {\n",
              "    background-color: var(--bg-color);\n",
              "    border: none;\n",
              "    border-radius: 50%;\n",
              "    cursor: pointer;\n",
              "    display: none;\n",
              "    fill: var(--fill-color);\n",
              "    height: 32px;\n",
              "    padding: 0;\n",
              "    width: 32px;\n",
              "  }\n",
              "\n",
              "  .colab-df-quickchart:hover {\n",
              "    background-color: var(--hover-bg-color);\n",
              "    box-shadow: 0 1px 2px rgba(60, 64, 67, 0.3), 0 1px 3px 1px rgba(60, 64, 67, 0.15);\n",
              "    fill: var(--button-hover-fill-color);\n",
              "  }\n",
              "\n",
              "  .colab-df-quickchart-complete:disabled,\n",
              "  .colab-df-quickchart-complete:disabled:hover {\n",
              "    background-color: var(--disabled-bg-color);\n",
              "    fill: var(--disabled-fill-color);\n",
              "    box-shadow: none;\n",
              "  }\n",
              "\n",
              "  .colab-df-spinner {\n",
              "    border: 2px solid var(--fill-color);\n",
              "    border-color: transparent;\n",
              "    border-bottom-color: var(--fill-color);\n",
              "    animation:\n",
              "      spin 1s steps(1) infinite;\n",
              "  }\n",
              "\n",
              "  @keyframes spin {\n",
              "    0% {\n",
              "      border-color: transparent;\n",
              "      border-bottom-color: var(--fill-color);\n",
              "      border-left-color: var(--fill-color);\n",
              "    }\n",
              "    20% {\n",
              "      border-color: transparent;\n",
              "      border-left-color: var(--fill-color);\n",
              "      border-top-color: var(--fill-color);\n",
              "    }\n",
              "    30% {\n",
              "      border-color: transparent;\n",
              "      border-left-color: var(--fill-color);\n",
              "      border-top-color: var(--fill-color);\n",
              "      border-right-color: var(--fill-color);\n",
              "    }\n",
              "    40% {\n",
              "      border-color: transparent;\n",
              "      border-right-color: var(--fill-color);\n",
              "      border-top-color: var(--fill-color);\n",
              "    }\n",
              "    60% {\n",
              "      border-color: transparent;\n",
              "      border-right-color: var(--fill-color);\n",
              "    }\n",
              "    80% {\n",
              "      border-color: transparent;\n",
              "      border-right-color: var(--fill-color);\n",
              "      border-bottom-color: var(--fill-color);\n",
              "    }\n",
              "    90% {\n",
              "      border-color: transparent;\n",
              "      border-bottom-color: var(--fill-color);\n",
              "    }\n",
              "  }\n",
              "</style>\n",
              "\n",
              "  <script>\n",
              "    async function quickchart(key) {\n",
              "      const quickchartButtonEl =\n",
              "        document.querySelector('#' + key + ' button');\n",
              "      quickchartButtonEl.disabled = true;  // To prevent multiple clicks.\n",
              "      quickchartButtonEl.classList.add('colab-df-spinner');\n",
              "      try {\n",
              "        const charts = await google.colab.kernel.invokeFunction(\n",
              "            'suggestCharts', [key], {});\n",
              "      } catch (error) {\n",
              "        console.error('Error during call to suggestCharts:', error);\n",
              "      }\n",
              "      quickchartButtonEl.classList.remove('colab-df-spinner');\n",
              "      quickchartButtonEl.classList.add('colab-df-quickchart-complete');\n",
              "    }\n",
              "    (() => {\n",
              "      let quickchartButtonEl =\n",
              "        document.querySelector('#df-39f79669-e6f3-4fdb-9cba-22dd255d7043 button');\n",
              "      quickchartButtonEl.style.display =\n",
              "        google.colab.kernel.accessAllowed ? 'block' : 'none';\n",
              "    })();\n",
              "  </script>\n",
              "</div>\n",
              "    </div>\n",
              "  </div>\n"
            ]
          },
          "metadata": {},
          "execution_count": 23
        }
      ],
      "source": [
        "loan.head()"
      ]
    },
    {
      "cell_type": "code",
      "execution_count": null,
      "metadata": {
        "colab": {
          "base_uri": "https://localhost:8080/"
        },
        "id": "L6fREomEBJyR",
        "outputId": "88633e46-5205-4bd2-8086-1989ca5800fb"
      },
      "outputs": [
        {
          "output_type": "execute_result",
          "data": {
            "text/plain": [
              "LoanID            0\n",
              "Age               0\n",
              "Income            0\n",
              "LoanAmount        0\n",
              "CreditScore       0\n",
              "MonthsEmployed    0\n",
              "NumCreditLines    0\n",
              "InterestRate      0\n",
              "LoanTerm          0\n",
              "DTIRatio          0\n",
              "Education         0\n",
              "EmploymentType    0\n",
              "MaritalStatus     0\n",
              "HasMortgage       0\n",
              "HasDependents     0\n",
              "LoanPurpose       0\n",
              "HasCoSigner       0\n",
              "Default           0\n",
              "dtype: int64"
            ]
          },
          "metadata": {},
          "execution_count": 24
        }
      ],
      "source": [
        "loan.isnull().sum()"
      ]
    },
    {
      "cell_type": "code",
      "execution_count": null,
      "metadata": {
        "id": "VAPtYGOnBkiC"
      },
      "outputs": [],
      "source": [
        "loan=loan.drop('LoanID', axis=1)"
      ]
    },
    {
      "cell_type": "code",
      "execution_count": null,
      "metadata": {
        "colab": {
          "base_uri": "https://localhost:8080/",
          "height": 447
        },
        "id": "sgBuuA5cBXA1",
        "outputId": "96ef1f1d-516f-410c-99c7-47bb82cc41d0"
      },
      "outputs": [
        {
          "output_type": "execute_result",
          "data": {
            "text/plain": [
              "<Axes: >"
            ]
          },
          "metadata": {},
          "execution_count": 26
        },
        {
          "output_type": "display_data",
          "data": {
            "text/plain": [
              "<Figure size 640x480 with 1 Axes>"
            ],
            "image/png": "[encoded data removed]"
          },
          "metadata": {}
        }
      ],
      "source": [
        "loan['Default'].hist()"
      ]
    },
    {
      "cell_type": "code",
      "execution_count": null,
      "metadata": {
        "id": "5oYW74lZAVkB"
      },
      "outputs": [],
      "source": [
        "loan=pd.get_dummies(loan)"
      ]
    },
    {
      "cell_type": "code",
      "execution_count": null,
      "metadata": {
        "id": "EfSkB9yEAxfI"
      },
      "outputs": [],
      "source": [
        "X=loan.drop('Default', axis=1)\n",
        "y=loan['Default']\n",
        "X_train, X_test, y_train, y_test = train_test_split(X, y, test_size=0.3, random_state=1)"
      ]
    },
    {
      "cell_type": "code",
      "execution_count": null,
      "metadata": {
        "id": "f0YjCnn-BplD"
      },
      "outputs": [],
      "source": [
        "scaler = MinMaxScaler()\n",
        "scaler.fit(X_train)\n",
        "\n",
        "X_train = scaler.transform(X_train)\n",
        "X_test = scaler.transform(X_test)"
      ]
    },
    {
      "cell_type": "markdown",
      "metadata": {
        "id": "ebrqdNWhOzzI"
      },
      "source": [
        "Logistic Regression"
      ]
    },
    {
      "cell_type": "code",
      "execution_count": null,
      "metadata": {
        "colab": {
          "base_uri": "https://localhost:8080/",
          "height": 74
        },
        "id": "HbWma6pgNrAH",
        "outputId": "fa707d86-a72a-43cf-d9a0-0252768d57a5"
      },
      "outputs": [
        {
          "output_type": "execute_result",
          "data": {
            "text/plain": [
              "LogisticRegression(solver='liblinear')"
            ],
            "text/html": [
              "<style>#sk-container-id-2 {color: black;background-color: white;}#sk-container-id-2 pre{padding: 0;}#sk-container-id-2 div.sk-toggleable {background-color: white;}#sk-container-id-2 label.sk-toggleable__label {cursor: pointer;display: block;width: 100%;margin-bottom: 0;padding: 0.3em;box-sizing: border-box;text-align: center;}#sk-container-id-2 label.sk-toggleable__label-arrow:before {content: \"▸\";float: left;margin-right: 0.25em;color: #696969;}#sk-container-id-2 label.sk-toggleable__label-arrow:hover:before {color: black;}#sk-container-id-2 div.sk-estimator:hover label.sk-toggleable__label-arrow:before {color: black;}#sk-container-id-2 div.sk-toggleable__content {max-height: 0;max-width: 0;overflow: hidden;text-align: left;background-color: #f0f8ff;}#sk-container-id-2 div.sk-toggleable__content pre {margin: 0.2em;color: black;border-radius: 0.25em;background-color: #f0f8ff;}#sk-container-id-2 input.sk-toggleable__control:checked~div.sk-toggleable__content {max-height: 200px;max-width: 100%;overflow: auto;}#sk-container-id-2 input.sk-toggleable__control:checked~label.sk-toggleable__label-arrow:before {content: \"▾\";}#sk-container-id-2 div.sk-estimator input.sk-toggleable__control:checked~label.sk-toggleable__label {background-color: #d4ebff;}#sk-container-id-2 div.sk-label input.sk-toggleable__control:checked~label.sk-toggleable__label {background-color: #d4ebff;}#sk-container-id-2 input.sk-hidden--visually {border: 0;clip: rect(1px 1px 1px 1px);clip: rect(1px, 1px, 1px, 1px);height: 1px;margin: -1px;overflow: hidden;padding: 0;position: absolute;width: 1px;}#sk-container-id-2 div.sk-estimator {font-family: monospace;background-color: #f0f8ff;border: 1px dotted black;border-radius: 0.25em;box-sizing: border-box;margin-bottom: 0.5em;}#sk-container-id-2 div.sk-estimator:hover {background-color: #d4ebff;}#sk-container-id-2 div.sk-parallel-item::after {content: \"\";width: 100%;border-bottom: 1px solid gray;flex-grow: 1;}#sk-container-id-2 div.sk-label:hover label.sk-toggleable__label {background-color: #d4ebff;}#sk-container-id-2 div.sk-serial::before {content: \"\";position: absolute;border-left: 1px solid gray;box-sizing: border-box;top: 0;bottom: 0;left: 50%;z-index: 0;}#sk-container-id-2 div.sk-serial {display: flex;flex-direction: column;align-items: center;background-color: white;padding-right: 0.2em;padding-left: 0.2em;position: relative;}#sk-container-id-2 div.sk-item {position: relative;z-index: 1;}#sk-container-id-2 div.sk-parallel {display: flex;align-items: stretch;justify-content: center;background-color: white;position: relative;}#sk-container-id-2 div.sk-item::before, #sk-container-id-2 div.sk-parallel-item::before {content: \"\";position: absolute;border-left: 1px solid gray;box-sizing: border-box;top: 0;bottom: 0;left: 50%;z-index: -1;}#sk-container-id-2 div.sk-parallel-item {display: flex;flex-direction: column;z-index: 1;position: relative;background-color: white;}#sk-container-id-2 div.sk-parallel-item:first-child::after {align-self: flex-end;width: 50%;}#sk-container-id-2 div.sk-parallel-item:last-child::after {align-self: flex-start;width: 50%;}#sk-container-id-2 div.sk-parallel-item:only-child::after {width: 0;}#sk-container-id-2 div.sk-dashed-wrapped {border: 1px dashed gray;margin: 0 0.4em 0.5em 0.4em;box-sizing: border-box;padding-bottom: 0.4em;background-color: white;}#sk-container-id-2 div.sk-label label {font-family: monospace;font-weight: bold;display: inline-block;line-height: 1.2em;}#sk-container-id-2 div.sk-label-container {text-align: center;}#sk-container-id-2 div.sk-container {/* jupyter's `normalize.less` sets `[hidden] { display: none; }` but bootstrap.min.css set `[hidden] { display: none !important; }` so we also need the `!important` here to be able to override the default hidden behavior on the sphinx rendered scikit-learn.org. See: https://github.com/scikit-learn/scikit-learn/issues/21755 */display: inline-block !important;position: relative;}#sk-container-id-2 div.sk-text-repr-fallback {display: none;}</style><div id=\"sk-container-id-2\" class=\"sk-top-container\"><div class=\"sk-text-repr-fallback\"><pre>LogisticRegression(solver=&#x27;liblinear&#x27;)</pre><b>In a Jupyter environment, please rerun this cell to show the HTML representation or trust the notebook. <br />On GitHub, the HTML representation is unable to render, please try loading this page with nbviewer.org.</b></div><div class=\"sk-container\" hidden><div class=\"sk-item\"><div class=\"sk-estimator sk-toggleable\"><input class=\"sk-toggleable__control sk-hidden--visually\" id=\"sk-estimator-id-2\" type=\"checkbox\" checked><label for=\"sk-estimator-id-2\" class=\"sk-toggleable__label sk-toggleable__label-arrow\">LogisticRegression</label><div class=\"sk-toggleable__content\"><pre>LogisticRegression(solver=&#x27;liblinear&#x27;)</pre></div></div></div></div></div>"
            ]
          },
          "metadata": {},
          "execution_count": 30
        }
      ],
      "source": [
        "logmodel = LogisticRegression(solver='liblinear')\n",
        "\n",
        "logmodel.fit(X_train,y_train)"
      ]
    },
    {
      "cell_type": "code",
      "execution_count": null,
      "metadata": {
        "id": "qSzxNPDQN-Ni"
      },
      "outputs": [],
      "source": [
        "y_pred_log = logmodel.predict(X_test)"
      ]
    },
    {
      "cell_type": "code",
      "execution_count": null,
      "metadata": {
        "colab": {
          "base_uri": "https://localhost:8080/"
        },
        "id": "jC5YYuPTOEzP",
        "outputId": "c603dfbf-9eda-4708-f213-b89087279220"
      },
      "outputs": [
        {
          "output_type": "execute_result",
          "data": {
            "text/plain": [
              "array([[3378,    9],\n",
              "       [ 429,   15]])"
            ]
          },
          "metadata": {},
          "execution_count": 32
        }
      ],
      "source": [
        "from sklearn.metrics import confusion_matrix, classification_report\n",
        "\n",
        "confusion_matrix(y_test,y_pred_log)"
      ]
    },
    {
      "cell_type": "code",
      "execution_count": null,
      "metadata": {
        "colab": {
          "base_uri": "https://localhost:8080/"
        },
        "id": "OmxV_H4pOSxN",
        "outputId": "b92cb83e-a31c-4bd9-d444-ab930edce4dc"
      },
      "outputs": [
        {
          "output_type": "stream",
          "name": "stdout",
          "text": [
            "              precision    recall  f1-score   support\n",
            "\n",
            "           0       0.89      1.00      0.94      3387\n",
            "           1       0.62      0.03      0.06       444\n",
            "\n",
            "    accuracy                           0.89      3831\n",
            "   macro avg       0.76      0.52      0.50      3831\n",
            "weighted avg       0.86      0.89      0.84      3831\n",
            "\n"
          ]
        }
      ],
      "source": [
        "print(classification_report(y_test,y_pred_log))"
      ]
    },
    {
      "cell_type": "code",
      "execution_count": null,
      "metadata": {
        "colab": {
          "base_uri": "https://localhost:8080/"
        },
        "id": "Dz1BJw7YOjnh",
        "outputId": "867a3af8-df87-47f3-fdbf-e1f95520f2d8"
      },
      "outputs": [
        {
          "output_type": "stream",
          "name": "stdout",
          "text": [
            "ROC AUC: 0.7621436760055006\n"
          ]
        }
      ],
      "source": [
        "from sklearn.metrics import roc_auc_score\n",
        "print(\"ROC AUC:\", roc_auc_score(y_test, logmodel.predict_proba(X_test)[:,1]))"
      ]
    },
    {
      "cell_type": "code",
      "execution_count": null,
      "metadata": {
        "colab": {
          "base_uri": "https://localhost:8080/"
        },
        "id": "By46-Ikb3Due",
        "outputId": "03a62363-0b45-4146-8e80-74ea93930518"
      },
      "outputs": [
        {
          "output_type": "stream",
          "name": "stdout",
          "text": [
            "Best Hyperparameters: {'C': 1000}\n",
            "ROC AUC on Test Set: 0.7621888939426584\n",
            "              precision    recall  f1-score   support\n",
            "\n",
            "           0       0.89      1.00      0.94      3387\n",
            "           1       0.62      0.03      0.06       444\n",
            "\n",
            "    accuracy                           0.89      3831\n",
            "   macro avg       0.76      0.52      0.50      3831\n",
            "weighted avg       0.86      0.89      0.84      3831\n",
            "\n"
          ]
        }
      ],
      "source": [
        "from sklearn.model_selection import GridSearchCV\n",
        "\n",
        "# Create a logistic regression model\n",
        "logreg_model = LogisticRegression()\n",
        "\n",
        "# Define hyperparameters to tune\n",
        "param_grid = {'C': [0.001, 0.01, 0.1, 1, 10,100,1000]}\n",
        "\n",
        "# Use GridSearchCV for hyperparameter tuning\n",
        "grid_search = GridSearchCV(logreg_model, param_grid, scoring='roc_auc', cv=5)\n",
        "grid_search.fit(X_train, y_train)\n",
        "\n",
        "# Get the best model from the grid search\n",
        "best_model = grid_search.best_estimator_\n",
        "\n",
        "# Print the best hyperparameters\n",
        "print(\"Best Hyperparameters:\", grid_search.best_params_)\n",
        "\n",
        "# Predict on the test set and calculate ROC AUC\n",
        "y_pred_proba = best_model.predict_proba(X_test)[:, 1]\n",
        "roc_auc = roc_auc_score(y_test, y_pred_proba)\n",
        "print(\"ROC AUC on Test Set:\", roc_auc)\n",
        "print(classification_report(y_test,y_pred_log))"
      ]
    },
    {
      "cell_type": "markdown",
      "metadata": {
        "id": "gRc7E2OgROKE"
      },
      "source": [
        "KNN"
      ]
    },
    {
      "cell_type": "code",
      "execution_count": null,
      "metadata": {
        "id": "7vFCpMB-Ubjg"
      },
      "outputs": [],
      "source": [
        "knn = KNeighborsClassifier(n_neighbors=5, metric='euclidean')\n",
        "knn.fit(X_train, y_train)\n",
        "Y_pred_knn = knn.predict(X_test)"
      ]
    },
    {
      "cell_type": "code",
      "execution_count": null,
      "metadata": {
        "colab": {
          "base_uri": "https://localhost:8080/"
        },
        "id": "qfdI2_6-U_tx",
        "outputId": "04705b4e-36d5-4ab3-fede-a310c54bc0a3"
      },
      "outputs": [
        {
          "output_type": "stream",
          "name": "stdout",
          "text": [
            "              precision    recall  f1-score   support\n",
            "\n",
            "           0       0.89      0.98      0.93      3387\n",
            "           1       0.19      0.03      0.05       444\n",
            "\n",
            "    accuracy                           0.87      3831\n",
            "   macro avg       0.54      0.51      0.49      3831\n",
            "weighted avg       0.80      0.87      0.83      3831\n",
            "\n",
            "ROC AUC: 0.5496931829969917\n"
          ]
        }
      ],
      "source": [
        "print(classification_report(y_test, Y_pred_knn))\n",
        "print(\"ROC AUC:\", roc_auc_score(y_test,knn.predict_proba(X_test)[:, 1] ))"
      ]
    },
    {
      "cell_type": "markdown",
      "metadata": {
        "id": "cdxsGV2l0Xma"
      },
      "source": [
        "XGBoost Classification model"
      ]
    },
    {
      "cell_type": "code",
      "execution_count": null,
      "metadata": {
        "id": "MtChbm86XYdB"
      },
      "outputs": [],
      "source": [
        "xg_class = xgb.XGBClassifier(objective='binary:logistic', colsample_bytree=0.3, learning_rate=0.1, max_depth=5, alpha=10, n_estimators=10)"
      ]
    },
    {
      "cell_type": "code",
      "execution_count": null,
      "metadata": {
        "id": "5PPdTgBk1H87"
      },
      "outputs": [],
      "source": [
        "xg_class.fit(X_train,y_train)\n",
        "\n",
        "y_pred_xg = xg_class.predict(X_test)"
      ]
    },
    {
      "cell_type": "code",
      "execution_count": null,
      "metadata": {
        "colab": {
          "base_uri": "https://localhost:8080/"
        },
        "id": "MzpHslmY6wYM",
        "outputId": "1c1d592b-ee0d-4ffb-bd77-7267bf38f2fb"
      },
      "outputs": [
        {
          "output_type": "stream",
          "name": "stdout",
          "text": [
            "[[3387    0]\n",
            " [ 444    0]]\n"
          ]
        }
      ],
      "source": [
        "conf_matrix = confusion_matrix(y_test, y_pred_xg)\n",
        "print(conf_matrix)"
      ]
    },
    {
      "cell_type": "code",
      "execution_count": null,
      "metadata": {
        "colab": {
          "base_uri": "https://localhost:8080/"
        },
        "id": "huy-SEpq7ASD",
        "outputId": "622bb75d-941a-4eb9-de47-b40e1e10f555"
      },
      "outputs": [
        {
          "output_type": "stream",
          "name": "stdout",
          "text": [
            "              precision    recall  f1-score   support\n",
            "\n",
            "           0       0.88      1.00      0.94      3387\n",
            "           1       0.00      0.00      0.00       444\n",
            "\n",
            "    accuracy                           0.88      3831\n",
            "   macro avg       0.44      0.50      0.47      3831\n",
            "weighted avg       0.78      0.88      0.83      3831\n",
            "\n",
            "ROC AUC: 0.726744015937993\n"
          ]
        },
        {
          "output_type": "stream",
          "name": "stderr",
          "text": [
            "/usr/local/lib/python3.10/dist-packages/sklearn/metrics/_classification.py:1344: UndefinedMetricWarning: Precision and F-score are ill-defined and being set to 0.0 in labels with no predicted samples. Use `zero_division` parameter to control this behavior.\n",
            "  _warn_prf(average, modifier, msg_start, len(result))\n",
            "/usr/local/lib/python3.10/dist-packages/sklearn/metrics/_classification.py:1344: UndefinedMetricWarning: Precision and F-score are ill-defined and being set to 0.0 in labels with no predicted samples. Use `zero_division` parameter to control this behavior.\n",
            "  _warn_prf(average, modifier, msg_start, len(result))\n",
            "/usr/local/lib/python3.10/dist-packages/sklearn/metrics/_classification.py:1344: UndefinedMetricWarning: Precision and F-score are ill-defined and being set to 0.0 in labels with no predicted samples. Use `zero_division` parameter to control this behavior.\n",
            "  _warn_prf(average, modifier, msg_start, len(result))\n"
          ]
        }
      ],
      "source": [
        "print(classification_report(y_test, y_pred_xg))\n",
        "print(\"ROC AUC:\", roc_auc_score(y_test, xg_class.predict_proba(X_test)[:, 1]))"
      ]
    },
    {
      "cell_type": "code",
      "execution_count": null,
      "metadata": {
        "colab": {
          "base_uri": "https://localhost:8080/"
        },
        "id": "B-zJp4k_uXJL",
        "outputId": "6f8915d0-a74b-4e1e-a87a-808d33813192"
      },
      "outputs": [
        {
          "output_type": "stream",
          "name": "stdout",
          "text": [
            "Fitting 5 folds for each of 25 candidates, totalling 125 fits\n",
            "Best parameters: {'subsample': 0.7, 'n_estimators': 500, 'max_depth': 3, 'learning_rate': 0.01, 'colsample_bytree': 0.7, 'colsample_bylevel': 0.5}\n",
            "Highest ROC AUC:  0.7348907691093637\n",
            "ROC AUC on Test Set:  0.7609021776426559\n",
            "              precision    recall  f1-score   support\n",
            "\n",
            "           0       0.89      1.00      0.94      3387\n",
            "           1       0.62      0.03      0.06       444\n",
            "\n",
            "    accuracy                           0.89      3831\n",
            "   macro avg       0.76      0.52      0.50      3831\n",
            "weighted avg       0.86      0.89      0.84      3831\n",
            "\n"
          ]
        }
      ],
      "source": [
        "from sklearn.model_selection import RandomizedSearchCV\n",
        "params = {\n",
        "    'max_depth': [3, 5, 6, 10, 15, 20],\n",
        "    'learning_rate': [0.01, 0.1, 0.2, 0.3],\n",
        "    'subsample': np.arange(0.5, 1.0, 0.1),\n",
        "    'colsample_bytree': np.arange(0.4, 1.0, 0.1),\n",
        "    'colsample_bylevel': np.arange(0.4, 1.0, 0.1),\n",
        "    'n_estimators': [100, 500, 1000]\n",
        "}\n",
        "\n",
        "# Create XGBoost classifier for binary classification\n",
        "xgb_clf = xgb.XGBClassifier(seed=20)\n",
        "\n",
        "# Randomized search for hyperparameter optimization\n",
        "clf = RandomizedSearchCV(estimator=xgb_clf,\n",
        "                         param_distributions=params,\n",
        "                         scoring='roc_auc',\n",
        "                         n_iter=25,\n",
        "                         verbose=1)\n",
        "\n",
        "# Fit the randomized search to find the best hyperparameters\n",
        "clf.fit(X_train, y_train)\n",
        "\n",
        "# Print the best parameters and highest ROC AUC\n",
        "print(\"Best parameters:\", clf.best_params_)\n",
        "print(\"Highest ROC AUC: \", clf.best_score_)\n",
        "\n",
        "# Use the best parameters to train the final model\n",
        "best_params = clf.best_params_\n",
        "final_model = xgb.XGBClassifier(seed=20, **best_params)\n",
        "final_model.fit(X_train, y_train)\n",
        "\n",
        "# Predict probabilities on the test set\n",
        "y_pred_proba = final_model.predict_proba(X_test)[:, 1]\n",
        "\n",
        "# Evaluate ROC AUC on the test set\n",
        "roc_auc_test = roc_auc_score(y_test, y_pred_proba)\n",
        "print(\"ROC AUC on Test Set: \", roc_auc_test)\n",
        "print(classification_report(y_test,y_pred_log))\n"
      ]
    },
    {
      "cell_type": "markdown",
      "metadata": {
        "id": "XkjVSc8ZbH8G"
      },
      "source": [
        "Boosted Tree"
      ]
    },
    {
      "cell_type": "code",
      "execution_count": null,
      "metadata": {
        "id": "h_AtLoxGZmb4"
      },
      "outputs": [],
      "source": [
        "bt_model = AdaBoostClassifier(n_estimators=20)\n",
        "bt_model.fit(X_train,y_train)\n",
        "y_pred_bt = bt_model.predict(X_test)"
      ]
    },
    {
      "cell_type": "code",
      "execution_count": null,
      "metadata": {
        "colab": {
          "base_uri": "https://localhost:8080/"
        },
        "id": "gykfGEC_dRrz",
        "outputId": "9c0822c0-d761-498a-e3c5-41e0af1e3d0f"
      },
      "outputs": [
        {
          "output_type": "stream",
          "name": "stdout",
          "text": [
            "              precision    recall  f1-score   support\n",
            "\n",
            "           0       0.89      0.99      0.94      3387\n",
            "           1       0.57      0.07      0.12       444\n",
            "\n",
            "    accuracy                           0.89      3831\n",
            "   macro avg       0.73      0.53      0.53      3831\n",
            "weighted avg       0.85      0.89      0.84      3831\n",
            "\n",
            "ROC AUC: 0.7446406769923156\n"
          ]
        }
      ],
      "source": [
        "print(classification_report(y_test, y_pred_bt))\n",
        "print(\"ROC AUC:\", roc_auc_score(y_test, bt_model.predict_proba(X_test)[:, 1]))"
      ]
    },
    {
      "cell_type": "markdown",
      "metadata": {
        "id": "zw-Sg7PVF9zu"
      },
      "source": [
        "Random Forest"
      ]
    },
    {
      "cell_type": "code",
      "execution_count": null,
      "metadata": {
        "id": "8_Ph3eiBFffs"
      },
      "outputs": [],
      "source": [
        "rf_model = RandomForestClassifier(n_estimators=100, random_state=1)"
      ]
    },
    {
      "cell_type": "code",
      "execution_count": null,
      "metadata": {
        "id": "PKDt79dcFiZX"
      },
      "outputs": [],
      "source": [
        "rf_model.fit(X_train, y_train)\n",
        "\n",
        "y_pred_rf = rf_model.predict(X_test)"
      ]
    },
    {
      "cell_type": "code",
      "execution_count": null,
      "metadata": {
        "colab": {
          "base_uri": "https://localhost:8080/"
        },
        "id": "DZUK3nXBFlCF",
        "outputId": "8558fa31-6f91-4319-a668-130738e89e8d"
      },
      "outputs": [
        {
          "output_type": "stream",
          "name": "stdout",
          "text": [
            "[[3386    1]\n",
            " [ 435    9]]\n"
          ]
        }
      ],
      "source": [
        "conf_matrix = confusion_matrix(y_test, y_pred_rf)\n",
        "print(conf_matrix)"
      ]
    },
    {
      "cell_type": "code",
      "execution_count": null,
      "metadata": {
        "colab": {
          "base_uri": "https://localhost:8080/"
        },
        "id": "p8RKQ6hyFoCd",
        "outputId": "0a0753be-419a-40c4-be18-97351541eaf7"
      },
      "outputs": [
        {
          "output_type": "stream",
          "name": "stdout",
          "text": [
            "              precision    recall  f1-score   support\n",
            "\n",
            "           0       0.89      1.00      0.94      3387\n",
            "           1       0.90      0.02      0.04       444\n",
            "\n",
            "    accuracy                           0.89      3831\n",
            "   macro avg       0.89      0.51      0.49      3831\n",
            "weighted avg       0.89      0.89      0.84      3831\n",
            "\n",
            "ROC AUC: 0.7251005434132093\n"
          ]
        }
      ],
      "source": [
        "print(classification_report(y_test, y_pred_rf))\n",
        "print(\"ROC AUC:\", roc_auc_score(y_test, rf_model.predict_proba(X_test)[:, 1]))"
      ]
    },
    {
      "cell_type": "markdown",
      "metadata": {
        "id": "50WJiy-0GMps"
      },
      "source": [
        "MLP"
      ]
    },
    {
      "cell_type": "code",
      "execution_count": null,
      "metadata": {
        "id": "Vzz7Ku_bF_dG"
      },
      "outputs": [],
      "source": [
        "from sklearn.neural_network import MLPClassifier\n",
        "\n",
        "mlp_model = MLPClassifier(hidden_layer_sizes=(20), max_iter=1000, random_state=1)"
      ]
    },
    {
      "cell_type": "code",
      "execution_count": null,
      "metadata": {
        "id": "2G1wuSDNIxGc"
      },
      "outputs": [],
      "source": [
        "mlp_model.fit(X_train, y_train)\n",
        "y_pred_mlp = mlp_model.predict(X_test)"
      ]
    },
    {
      "cell_type": "code",
      "execution_count": null,
      "metadata": {
        "colab": {
          "base_uri": "https://localhost:8080/"
        },
        "id": "ze_A5ST6Iz71",
        "outputId": "3be9fc36-2080-4449-9e5b-2999438fa063"
      },
      "outputs": [
        {
          "output_type": "stream",
          "name": "stdout",
          "text": [
            "[[3361   26]\n",
            " [ 405   39]]\n"
          ]
        }
      ],
      "source": [
        "conf_matrix = confusion_matrix(y_test, y_pred_mlp)\n",
        "print(conf_matrix)"
      ]
    },
    {
      "cell_type": "code",
      "execution_count": null,
      "metadata": {
        "colab": {
          "base_uri": "https://localhost:8080/"
        },
        "id": "YwsuBo5gI-FX",
        "outputId": "0661abe1-ecc7-40fb-dab8-dc4403056477"
      },
      "outputs": [
        {
          "output_type": "stream",
          "name": "stdout",
          "text": [
            "              precision    recall  f1-score   support\n",
            "\n",
            "           0       0.89      0.99      0.94      3387\n",
            "           1       0.60      0.09      0.15       444\n",
            "\n",
            "    accuracy                           0.89      3831\n",
            "   macro avg       0.75      0.54      0.55      3831\n",
            "weighted avg       0.86      0.89      0.85      3831\n",
            "\n",
            "ROC AUC: 0.720231968017619\n"
          ]
        }
      ],
      "source": [
        "print(classification_report(y_test, y_pred_mlp))\n",
        "print(\"ROC AUC:\", roc_auc_score(y_test, mlp_model.predict_proba(X_test)[:, 1]))"
      ]
    },
    {
      "cell_type": "markdown",
      "metadata": {
        "id": "NvTnT5kVJGNH"
      },
      "source": [
        "TensorFlow"
      ]
    },
    {
      "cell_type": "code",
      "execution_count": null,
      "metadata": {
        "id": "aYK861aSJErG"
      },
      "outputs": [],
      "source": [
        "import tensorflow as tf\n",
        "from tensorflow.keras.models import Sequential\n",
        "from tensorflow.keras.layers import Dense,Activation,Dropout"
      ]
    },
    {
      "cell_type": "code",
      "execution_count": null,
      "metadata": {
        "id": "N4AvyffaJQ81"
      },
      "outputs": [],
      "source": [
        "tf_model = Sequential()\n",
        "tf_model.add(Dense(units=64,activation='relu'))\n",
        "tf_model.add(Dense(units=32,activation='relu'))\n",
        "tf_model.add(Dense(units=1,activation='sigmoid'))"
      ]
    },
    {
      "cell_type": "code",
      "execution_count": null,
      "metadata": {
        "id": "Y3mxCfDRJTuf"
      },
      "outputs": [],
      "source": [
        "tf_model.compile(loss='binary_crossentropy', optimizer='adam')"
      ]
    },
    {
      "cell_type": "code",
      "execution_count": null,
      "metadata": {
        "colab": {
          "base_uri": "https://localhost:8080/"
        },
        "id": "-z7nGlYdJWlh",
        "outputId": "f0dbedd0-eb26-4372-b76c-ba731ec2a7e9"
      },
      "outputs": [
        {
          "output_type": "stream",
          "name": "stdout",
          "text": [
            "Epoch 1/100\n",
            "70/70 [==============================] - 1s 4ms/step - loss: 0.3670 - val_loss: 0.3466\n",
            "Epoch 2/100\n",
            "70/70 [==============================] - 0s 2ms/step - loss: 0.3342 - val_loss: 0.3340\n",
            "Epoch 3/100\n",
            "70/70 [==============================] - 0s 3ms/step - loss: 0.3221 - val_loss: 0.3214\n",
            "Epoch 4/100\n",
            "70/70 [==============================] - 0s 3ms/step - loss: 0.3134 - val_loss: 0.3133\n",
            "Epoch 5/100\n",
            "70/70 [==============================] - 0s 2ms/step - loss: 0.3101 - val_loss: 0.3119\n",
            "Epoch 6/100\n",
            "70/70 [==============================] - 0s 2ms/step - loss: 0.3095 - val_loss: 0.3119\n",
            "Epoch 7/100\n",
            "70/70 [==============================] - 0s 2ms/step - loss: 0.3077 - val_loss: 0.3114\n",
            "Epoch 8/100\n",
            "70/70 [==============================] - 0s 2ms/step - loss: 0.3068 - val_loss: 0.3130\n",
            "Epoch 9/100\n",
            "70/70 [==============================] - 0s 3ms/step - loss: 0.3048 - val_loss: 0.3113\n",
            "Epoch 10/100\n",
            "70/70 [==============================] - 0s 3ms/step - loss: 0.3040 - val_loss: 0.3129\n",
            "Epoch 11/100\n",
            "70/70 [==============================] - 0s 2ms/step - loss: 0.3028 - val_loss: 0.3176\n",
            "Epoch 12/100\n",
            "70/70 [==============================] - 0s 2ms/step - loss: 0.3028 - val_loss: 0.3134\n",
            "Epoch 13/100\n",
            "70/70 [==============================] - 0s 3ms/step - loss: 0.3015 - val_loss: 0.3136\n",
            "Epoch 14/100\n",
            "70/70 [==============================] - 0s 2ms/step - loss: 0.3000 - val_loss: 0.3139\n",
            "Epoch 15/100\n",
            "70/70 [==============================] - 0s 3ms/step - loss: 0.2987 - val_loss: 0.3177\n",
            "Epoch 16/100\n",
            "70/70 [==============================] - 0s 2ms/step - loss: 0.2978 - val_loss: 0.3165\n",
            "Epoch 17/100\n",
            "70/70 [==============================] - 0s 3ms/step - loss: 0.2964 - val_loss: 0.3230\n",
            "Epoch 18/100\n",
            "70/70 [==============================] - 0s 3ms/step - loss: 0.2952 - val_loss: 0.3166\n",
            "Epoch 19/100\n",
            "70/70 [==============================] - 0s 2ms/step - loss: 0.2942 - val_loss: 0.3183\n",
            "Epoch 20/100\n",
            "70/70 [==============================] - 0s 2ms/step - loss: 0.2938 - val_loss: 0.3190\n",
            "Epoch 21/100\n",
            "70/70 [==============================] - 0s 2ms/step - loss: 0.2923 - val_loss: 0.3228\n",
            "Epoch 22/100\n",
            "70/70 [==============================] - 0s 2ms/step - loss: 0.2911 - val_loss: 0.3203\n",
            "Epoch 23/100\n",
            "70/70 [==============================] - 0s 2ms/step - loss: 0.2891 - val_loss: 0.3215\n",
            "Epoch 24/100\n",
            "70/70 [==============================] - 0s 2ms/step - loss: 0.2888 - val_loss: 0.3218\n",
            "Epoch 25/100\n",
            "70/70 [==============================] - 0s 2ms/step - loss: 0.2865 - val_loss: 0.3249\n",
            "Epoch 26/100\n",
            "70/70 [==============================] - 0s 2ms/step - loss: 0.2874 - val_loss: 0.3287\n",
            "Epoch 27/100\n",
            "70/70 [==============================] - 0s 2ms/step - loss: 0.2855 - val_loss: 0.3263\n",
            "Epoch 28/100\n",
            "70/70 [==============================] - 0s 2ms/step - loss: 0.2833 - val_loss: 0.3259\n",
            "Epoch 29/100\n",
            "70/70 [==============================] - 0s 2ms/step - loss: 0.2822 - val_loss: 0.3280\n",
            "Epoch 30/100\n",
            "70/70 [==============================] - 0s 2ms/step - loss: 0.2814 - val_loss: 0.3278\n",
            "Epoch 31/100\n",
            "70/70 [==============================] - 0s 2ms/step - loss: 0.2793 - val_loss: 0.3319\n",
            "Epoch 32/100\n",
            "70/70 [==============================] - 0s 2ms/step - loss: 0.2792 - val_loss: 0.3305\n",
            "Epoch 33/100\n",
            "70/70 [==============================] - 0s 2ms/step - loss: 0.2771 - val_loss: 0.3327\n",
            "Epoch 34/100\n",
            "70/70 [==============================] - 0s 2ms/step - loss: 0.2759 - val_loss: 0.3338\n",
            "Epoch 35/100\n",
            "70/70 [==============================] - 0s 2ms/step - loss: 0.2766 - val_loss: 0.3352\n",
            "Epoch 36/100\n",
            "70/70 [==============================] - 0s 2ms/step - loss: 0.2739 - val_loss: 0.3407\n",
            "Epoch 37/100\n",
            "70/70 [==============================] - 0s 2ms/step - loss: 0.2731 - val_loss: 0.3335\n",
            "Epoch 38/100\n",
            "70/70 [==============================] - 0s 2ms/step - loss: 0.2722 - val_loss: 0.3373\n",
            "Epoch 39/100\n",
            "70/70 [==============================] - 0s 2ms/step - loss: 0.2704 - val_loss: 0.3359\n",
            "Epoch 40/100\n",
            "70/70 [==============================] - 0s 2ms/step - loss: 0.2679 - val_loss: 0.3407\n",
            "Epoch 41/100\n",
            "70/70 [==============================] - 0s 2ms/step - loss: 0.2680 - val_loss: 0.3389\n",
            "Epoch 42/100\n",
            "70/70 [==============================] - 0s 2ms/step - loss: 0.2658 - val_loss: 0.3423\n",
            "Epoch 43/100\n",
            "70/70 [==============================] - 0s 2ms/step - loss: 0.2651 - val_loss: 0.3407\n",
            "Epoch 44/100\n",
            "70/70 [==============================] - 0s 2ms/step - loss: 0.2641 - val_loss: 0.3416\n",
            "Epoch 45/100\n",
            "70/70 [==============================] - 0s 2ms/step - loss: 0.2626 - val_loss: 0.3434\n",
            "Epoch 46/100\n",
            "70/70 [==============================] - 0s 2ms/step - loss: 0.2613 - val_loss: 0.3432\n",
            "Epoch 47/100\n",
            "70/70 [==============================] - 0s 2ms/step - loss: 0.2605 - val_loss: 0.3459\n",
            "Epoch 48/100\n",
            "70/70 [==============================] - 0s 2ms/step - loss: 0.2591 - val_loss: 0.3470\n",
            "Epoch 49/100\n",
            "70/70 [==============================] - 0s 2ms/step - loss: 0.2569 - val_loss: 0.3479\n",
            "Epoch 50/100\n",
            "70/70 [==============================] - 0s 2ms/step - loss: 0.2564 - val_loss: 0.3561\n",
            "Epoch 51/100\n",
            "70/70 [==============================] - 0s 2ms/step - loss: 0.2560 - val_loss: 0.3497\n",
            "Epoch 52/100\n",
            "70/70 [==============================] - 0s 2ms/step - loss: 0.2544 - val_loss: 0.3511\n",
            "Epoch 53/100\n",
            "70/70 [==============================] - 0s 2ms/step - loss: 0.2528 - val_loss: 0.3576\n",
            "Epoch 54/100\n",
            "70/70 [==============================] - 0s 2ms/step - loss: 0.2508 - val_loss: 0.3558\n",
            "Epoch 55/100\n",
            "70/70 [==============================] - 0s 2ms/step - loss: 0.2501 - val_loss: 0.3546\n",
            "Epoch 56/100\n",
            "70/70 [==============================] - 0s 3ms/step - loss: 0.2489 - val_loss: 0.3564\n",
            "Epoch 57/100\n",
            "70/70 [==============================] - 0s 2ms/step - loss: 0.2469 - val_loss: 0.3570\n",
            "Epoch 58/100\n",
            "70/70 [==============================] - 0s 2ms/step - loss: 0.2461 - val_loss: 0.3599\n",
            "Epoch 59/100\n",
            "70/70 [==============================] - 0s 2ms/step - loss: 0.2450 - val_loss: 0.3615\n",
            "Epoch 60/100\n",
            "70/70 [==============================] - 0s 2ms/step - loss: 0.2441 - val_loss: 0.3600\n",
            "Epoch 61/100\n",
            "70/70 [==============================] - 0s 2ms/step - loss: 0.2430 - val_loss: 0.3608\n",
            "Epoch 62/100\n",
            "70/70 [==============================] - 0s 2ms/step - loss: 0.2420 - val_loss: 0.3710\n",
            "Epoch 63/100\n",
            "70/70 [==============================] - 0s 2ms/step - loss: 0.2408 - val_loss: 0.3678\n",
            "Epoch 64/100\n",
            "70/70 [==============================] - 0s 2ms/step - loss: 0.2393 - val_loss: 0.3634\n",
            "Epoch 65/100\n",
            "70/70 [==============================] - 0s 2ms/step - loss: 0.2364 - val_loss: 0.3687\n",
            "Epoch 66/100\n",
            "70/70 [==============================] - 0s 2ms/step - loss: 0.2357 - val_loss: 0.3657\n",
            "Epoch 67/100\n",
            "70/70 [==============================] - 0s 2ms/step - loss: 0.2352 - val_loss: 0.3724\n",
            "Epoch 68/100\n",
            "70/70 [==============================] - 0s 2ms/step - loss: 0.2345 - val_loss: 0.3668\n",
            "Epoch 69/100\n",
            "70/70 [==============================] - 0s 2ms/step - loss: 0.2332 - val_loss: 0.3719\n",
            "Epoch 70/100\n",
            "70/70 [==============================] - 0s 2ms/step - loss: 0.2337 - val_loss: 0.3758\n",
            "Epoch 71/100\n",
            "70/70 [==============================] - 0s 2ms/step - loss: 0.2317 - val_loss: 0.3782\n",
            "Epoch 72/100\n",
            "70/70 [==============================] - 0s 2ms/step - loss: 0.2303 - val_loss: 0.3833\n",
            "Epoch 73/100\n",
            "70/70 [==============================] - 0s 2ms/step - loss: 0.2311 - val_loss: 0.3779\n",
            "Epoch 74/100\n",
            "70/70 [==============================] - 0s 2ms/step - loss: 0.2296 - val_loss: 0.3792\n",
            "Epoch 75/100\n",
            "70/70 [==============================] - 0s 2ms/step - loss: 0.2258 - val_loss: 0.3932\n",
            "Epoch 76/100\n",
            "70/70 [==============================] - 0s 2ms/step - loss: 0.2280 - val_loss: 0.3828\n",
            "Epoch 77/100\n",
            "70/70 [==============================] - 0s 2ms/step - loss: 0.2248 - val_loss: 0.3821\n",
            "Epoch 78/100\n",
            "70/70 [==============================] - 0s 2ms/step - loss: 0.2251 - val_loss: 0.3836\n",
            "Epoch 79/100\n",
            "70/70 [==============================] - 0s 2ms/step - loss: 0.2235 - val_loss: 0.3838\n",
            "Epoch 80/100\n",
            "70/70 [==============================] - 0s 2ms/step - loss: 0.2222 - val_loss: 0.3877\n",
            "Epoch 81/100\n",
            "70/70 [==============================] - 0s 2ms/step - loss: 0.2205 - val_loss: 0.3925\n",
            "Epoch 82/100\n",
            "70/70 [==============================] - 0s 3ms/step - loss: 0.2201 - val_loss: 0.3958\n",
            "Epoch 83/100\n",
            "70/70 [==============================] - 0s 2ms/step - loss: 0.2198 - val_loss: 0.3892\n",
            "Epoch 84/100\n",
            "70/70 [==============================] - 0s 3ms/step - loss: 0.2189 - val_loss: 0.3928\n",
            "Epoch 85/100\n",
            "70/70 [==============================] - 0s 3ms/step - loss: 0.2171 - val_loss: 0.3993\n",
            "Epoch 86/100\n",
            "70/70 [==============================] - 0s 2ms/step - loss: 0.2171 - val_loss: 0.3990\n",
            "Epoch 87/100\n",
            "70/70 [==============================] - 0s 2ms/step - loss: 0.2149 - val_loss: 0.4026\n",
            "Epoch 88/100\n",
            "70/70 [==============================] - 0s 2ms/step - loss: 0.2162 - val_loss: 0.4007\n",
            "Epoch 89/100\n",
            "70/70 [==============================] - 0s 2ms/step - loss: 0.2135 - val_loss: 0.3948\n",
            "Epoch 90/100\n",
            "70/70 [==============================] - 0s 3ms/step - loss: 0.2144 - val_loss: 0.3993\n",
            "Epoch 91/100\n",
            "70/70 [==============================] - 0s 3ms/step - loss: 0.2126 - val_loss: 0.4109\n",
            "Epoch 92/100\n",
            "70/70 [==============================] - 0s 2ms/step - loss: 0.2111 - val_loss: 0.4055\n",
            "Epoch 93/100\n",
            "70/70 [==============================] - 0s 3ms/step - loss: 0.2105 - val_loss: 0.4044\n",
            "Epoch 94/100\n",
            "70/70 [==============================] - 0s 3ms/step - loss: 0.2094 - val_loss: 0.4142\n",
            "Epoch 95/100\n",
            "70/70 [==============================] - 0s 3ms/step - loss: 0.2127 - val_loss: 0.4057\n",
            "Epoch 96/100\n",
            "70/70 [==============================] - 0s 3ms/step - loss: 0.2065 - val_loss: 0.4090\n",
            "Epoch 97/100\n",
            "70/70 [==============================] - 0s 2ms/step - loss: 0.2060 - val_loss: 0.4101\n",
            "Epoch 98/100\n",
            "70/70 [==============================] - 0s 2ms/step - loss: 0.2061 - val_loss: 0.4150\n",
            "Epoch 99/100\n",
            "70/70 [==============================] - 0s 2ms/step - loss: 0.2042 - val_loss: 0.4182\n",
            "Epoch 100/100\n",
            "70/70 [==============================] - 0s 2ms/step - loss: 0.2038 - val_loss: 0.4153\n"
          ]
        },
        {
          "output_type": "execute_result",
          "data": {
            "text/plain": [
              "<keras.src.callbacks.History at 0x7f7533007010>"
            ]
          },
          "metadata": {},
          "execution_count": 56
        }
      ],
      "source": [
        "tf_model.fit(x=X_train,\n",
        "          y=y_train,\n",
        "          batch_size=128,\n",
        "          epochs=100,\n",
        "          validation_data=(X_test, y_test), verbose=1)"
      ]
    },
    {
      "cell_type": "code",
      "execution_count": null,
      "metadata": {
        "colab": {
          "base_uri": "https://localhost:8080/"
        },
        "id": "a30TBsRiJlp2",
        "outputId": "1a44db7c-d1d8-4abe-b36e-92a38304f1ed"
      },
      "outputs": [
        {
          "output_type": "stream",
          "name": "stdout",
          "text": [
            "120/120 [==============================] - 0s 909us/step\n"
          ]
        }
      ],
      "source": [
        "y_pred_tf = tf_model.predict(X_test)"
      ]
    },
    {
      "cell_type": "code",
      "execution_count": null,
      "metadata": {
        "id": "ah1xaw5hJt6j"
      },
      "outputs": [],
      "source": [
        "y_pred_bin = y_pred_tf>.5"
      ]
    },
    {
      "cell_type": "code",
      "execution_count": null,
      "metadata": {
        "colab": {
          "base_uri": "https://localhost:8080/"
        },
        "id": "BOO6aZiVJyuh",
        "outputId": "3b73b0d2-aa9d-469c-c094-f754b8c65d4e"
      },
      "outputs": [
        {
          "output_type": "stream",
          "name": "stdout",
          "text": [
            "[[3361   26]\n",
            " [ 405   39]]\n"
          ]
        }
      ],
      "source": [
        "conf_matrix = confusion_matrix(y_test, y_pred_mlp)\n",
        "print(conf_matrix)"
      ]
    },
    {
      "cell_type": "code",
      "execution_count": null,
      "metadata": {
        "colab": {
          "base_uri": "https://localhost:8080/"
        },
        "id": "hNdtPfUuJx5i",
        "outputId": "efca07c7-7972-4d89-e09e-8ec3513dd804"
      },
      "outputs": [
        {
          "output_type": "stream",
          "name": "stdout",
          "text": [
            "              precision    recall  f1-score   support\n",
            "\n",
            "           0       0.90      0.95      0.92      3387\n",
            "           1       0.31      0.18      0.22       444\n",
            "\n",
            "    accuracy                           0.86      3831\n",
            "   macro avg       0.60      0.56      0.57      3831\n",
            "weighted avg       0.83      0.86      0.84      3831\n",
            "\n",
            "ROC AUC: 0.562151389653604\n"
          ]
        }
      ],
      "source": [
        "print(classification_report(y_test, y_pred_bin))\n",
        "print(\"ROC AUC:\", roc_auc_score(y_test, y_pred_bin))"
      ]
    },
    {
      "cell_type": "markdown",
      "metadata": {
        "id": "u-nFgknz4Y8Y"
      },
      "source": [
        "Feature Importance"
      ]
    },
    {
      "cell_type": "code",
      "execution_count": null,
      "metadata": {
        "colab": {
          "base_uri": "https://localhost:8080/"
        },
        "id": "fpvmAXFF4e52",
        "outputId": "92381688-b697-456e-b1f6-a0681924cb5e"
      },
      "outputs": [
        {
          "output_type": "stream",
          "name": "stdout",
          "text": [
            "Collecting eli5\n",
            "  Downloading eli5-0.13.0.tar.gz (216 kB)\n",
            "\u001b[2K     \u001b[90m━━━━━━━━━━━━━━━━━━━━━━━━━━━━━━━━━━━━━━━━\u001b[0m \u001b[32m216.2/216.2 kB\u001b[0m \u001b[31m1.7 MB/s\u001b[0m eta \u001b[36m0:00:00\u001b[0m\n",
            "\u001b[?25h  Preparing metadata (setup.py) ... \u001b[?25l\u001b[?25hdone\n",
            "Requirement already satisfied: attrs>17.1.0 in /usr/local/lib/python3.10/dist-packages (from eli5) (23.1.0)\n",
            "Requirement already satisfied: jinja2>=3.0.0 in /usr/local/lib/python3.10/dist-packages (from eli5) (3.1.2)\n",
            "Requirement already satisfied: numpy>=1.9.0 in /usr/local/lib/python3.10/dist-packages (from eli5) (1.23.5)\n",
            "Requirement already satisfied: scipy in /usr/local/lib/python3.10/dist-packages (from eli5) (1.11.4)\n",
            "Requirement already satisfied: six in /usr/local/lib/python3.10/dist-packages (from eli5) (1.16.0)\n",
            "Requirement already satisfied: scikit-learn>=0.20 in /usr/local/lib/python3.10/dist-packages (from eli5) (1.2.2)\n",
            "Requirement already satisfied: graphviz in /usr/local/lib/python3.10/dist-packages (from eli5) (0.20.1)\n",
            "Requirement already satisfied: tabulate>=0.7.7 in /usr/local/lib/python3.10/dist-packages (from eli5) (0.9.0)\n",
            "Requirement already satisfied: MarkupSafe>=2.0 in /usr/local/lib/python3.10/dist-packages (from jinja2>=3.0.0->eli5) (2.1.3)\n",
            "Requirement already satisfied: joblib>=1.1.1 in /usr/local/lib/python3.10/dist-packages (from scikit-learn>=0.20->eli5) (1.3.2)\n",
            "Requirement already satisfied: threadpoolctl>=2.0.0 in /usr/local/lib/python3.10/dist-packages (from scikit-learn>=0.20->eli5) (3.2.0)\n",
            "Building wheels for collected packages: eli5\n",
            "  Building wheel for eli5 (setup.py) ... \u001b[?25l\u001b[?25hdone\n",
            "  Created wheel for eli5: filename=eli5-0.13.0-py2.py3-none-any.whl size=107717 sha256=1e99f193a8635a99187bdc5c6f715122f58cc111b25f129dcc2ccfcbcff28cb1\n",
            "  Stored in directory: /root/.cache/pip/wheels/b8/58/ef/2cf4c306898c2338d51540e0922c8e0d6028e07007085c0004\n",
            "Successfully built eli5\n",
            "Installing collected packages: eli5\n",
            "Successfully installed eli5-0.13.0\n"
          ]
        }
      ],
      "source": [
        "!pip install eli5"
      ]
    },
    {
      "cell_type": "code",
      "execution_count": null,
      "metadata": {
        "colab": {
          "base_uri": "https://localhost:8080/"
        },
        "id": "ZrjvwyQV4bTl",
        "outputId": "13fbdaa5-c434-4536-d469-21082783d282"
      },
      "outputs": [
        {
          "output_type": "execute_result",
          "data": {
            "text/plain": [
              "<IPython.core.display.HTML object>"
            ],
            "text/html": [
              "\n",
              "    <style>\n",
              "    table.eli5-weights tr:hover {\n",
              "        filter: brightness(85%);\n",
              "    }\n",
              "</style>\n",
              "\n",
              "\n",
              "\n",
              "    \n",
              "\n",
              "    \n",
              "\n",
              "    \n",
              "\n",
              "    \n",
              "\n",
              "    \n",
              "\n",
              "    \n",
              "\n",
              "\n",
              "    \n",
              "\n",
              "    \n",
              "\n",
              "    \n",
              "\n",
              "    \n",
              "\n",
              "    \n",
              "\n",
              "    \n",
              "\n",
              "\n",
              "    \n",
              "\n",
              "    \n",
              "\n",
              "    \n",
              "\n",
              "    \n",
              "\n",
              "    \n",
              "        <table class=\"eli5-weights eli5-feature-importances\" style=\"border-collapse: collapse; border: none; margin-top: 0em; table-layout: auto;\">\n",
              "    <thead>\n",
              "    <tr style=\"border: none;\">\n",
              "        <th style=\"padding: 0 1em 0 0.5em; text-align: right; border: none;\">Weight</th>\n",
              "        <th style=\"padding: 0 0.5em 0 0.5em; text-align: left; border: none;\">Feature</th>\n",
              "    </tr>\n",
              "    </thead>\n",
              "    <tbody>\n",
              "    \n",
              "        <tr style=\"background-color: hsl(120, 100.00%, 80.00%); border: none;\">\n",
              "            <td style=\"padding: 0 1em 0 0.5em; text-align: right; border: none;\">\n",
              "                0.0014\n",
              "                \n",
              "                    &plusmn; 0.0006\n",
              "                \n",
              "            </td>\n",
              "            <td style=\"padding: 0 0.5em 0 0.5em; text-align: left; border: none;\">\n",
              "                EmploymentType_Full-time\n",
              "            </td>\n",
              "        </tr>\n",
              "    \n",
              "        <tr style=\"background-color: hsl(120, 100.00%, 82.21%); border: none;\">\n",
              "            <td style=\"padding: 0 1em 0 0.5em; text-align: right; border: none;\">\n",
              "                0.0011\n",
              "                \n",
              "                    &plusmn; 0.0016\n",
              "                \n",
              "            </td>\n",
              "            <td style=\"padding: 0 0.5em 0 0.5em; text-align: left; border: none;\">\n",
              "                LoanAmount\n",
              "            </td>\n",
              "        </tr>\n",
              "    \n",
              "        <tr style=\"background-color: hsl(120, 100.00%, 83.36%); border: none;\">\n",
              "            <td style=\"padding: 0 1em 0 0.5em; text-align: right; border: none;\">\n",
              "                0.0010\n",
              "                \n",
              "                    &plusmn; 0.0012\n",
              "                \n",
              "            </td>\n",
              "            <td style=\"padding: 0 0.5em 0 0.5em; text-align: left; border: none;\">\n",
              "                InterestRate\n",
              "            </td>\n",
              "        </tr>\n",
              "    \n",
              "        <tr style=\"background-color: hsl(120, 100.00%, 83.36%); border: none;\">\n",
              "            <td style=\"padding: 0 1em 0 0.5em; text-align: right; border: none;\">\n",
              "                0.0010\n",
              "                \n",
              "                    &plusmn; 0.0012\n",
              "                \n",
              "            </td>\n",
              "            <td style=\"padding: 0 0.5em 0 0.5em; text-align: left; border: none;\">\n",
              "                Age\n",
              "            </td>\n",
              "        </tr>\n",
              "    \n",
              "        <tr style=\"background-color: hsl(120, 100.00%, 83.94%); border: none;\">\n",
              "            <td style=\"padding: 0 1em 0 0.5em; text-align: right; border: none;\">\n",
              "                0.0010\n",
              "                \n",
              "                    &plusmn; 0.0010\n",
              "                \n",
              "            </td>\n",
              "            <td style=\"padding: 0 0.5em 0 0.5em; text-align: left; border: none;\">\n",
              "                DTIRatio\n",
              "            </td>\n",
              "        </tr>\n",
              "    \n",
              "        <tr style=\"background-color: hsl(120, 100.00%, 84.54%); border: none;\">\n",
              "            <td style=\"padding: 0 1em 0 0.5em; text-align: right; border: none;\">\n",
              "                0.0009\n",
              "                \n",
              "                    &plusmn; 0.0016\n",
              "                \n",
              "            </td>\n",
              "            <td style=\"padding: 0 0.5em 0 0.5em; text-align: left; border: none;\">\n",
              "                MonthsEmployed\n",
              "            </td>\n",
              "        </tr>\n",
              "    \n",
              "        <tr style=\"background-color: hsl(120, 100.00%, 87.69%); border: none;\">\n",
              "            <td style=\"padding: 0 1em 0 0.5em; text-align: right; border: none;\">\n",
              "                0.0007\n",
              "                \n",
              "                    &plusmn; 0.0014\n",
              "                \n",
              "            </td>\n",
              "            <td style=\"padding: 0 0.5em 0 0.5em; text-align: left; border: none;\">\n",
              "                HasDependents_Yes\n",
              "            </td>\n",
              "        </tr>\n",
              "    \n",
              "        <tr style=\"background-color: hsl(120, 100.00%, 89.75%); border: none;\">\n",
              "            <td style=\"padding: 0 1em 0 0.5em; text-align: right; border: none;\">\n",
              "                0.0005\n",
              "                \n",
              "                    &plusmn; 0.0003\n",
              "                \n",
              "            </td>\n",
              "            <td style=\"padding: 0 0.5em 0 0.5em; text-align: left; border: none;\">\n",
              "                LoanPurpose_Business\n",
              "            </td>\n",
              "        </tr>\n",
              "    \n",
              "        <tr style=\"background-color: hsl(120, 100.00%, 91.24%); border: none;\">\n",
              "            <td style=\"padding: 0 1em 0 0.5em; text-align: right; border: none;\">\n",
              "                0.0004\n",
              "                \n",
              "                    &plusmn; 0.0004\n",
              "                \n",
              "            </td>\n",
              "            <td style=\"padding: 0 0.5em 0 0.5em; text-align: left; border: none;\">\n",
              "                MaritalStatus_Single\n",
              "            </td>\n",
              "        </tr>\n",
              "    \n",
              "        <tr style=\"background-color: hsl(120, 100.00%, 91.24%); border: none;\">\n",
              "            <td style=\"padding: 0 1em 0 0.5em; text-align: right; border: none;\">\n",
              "                0.0004\n",
              "                \n",
              "                    &plusmn; 0.0005\n",
              "                \n",
              "            </td>\n",
              "            <td style=\"padding: 0 0.5em 0 0.5em; text-align: left; border: none;\">\n",
              "                LoanPurpose_Home\n",
              "            </td>\n",
              "        </tr>\n",
              "    \n",
              "        <tr style=\"background-color: hsl(120, 100.00%, 93.69%); border: none;\">\n",
              "            <td style=\"padding: 0 1em 0 0.5em; text-align: right; border: none;\">\n",
              "                0.0003\n",
              "                \n",
              "                    &plusmn; 0.0014\n",
              "                \n",
              "            </td>\n",
              "            <td style=\"padding: 0 0.5em 0 0.5em; text-align: left; border: none;\">\n",
              "                Income\n",
              "            </td>\n",
              "        </tr>\n",
              "    \n",
              "        <tr style=\"background-color: hsl(120, 100.00%, 93.69%); border: none;\">\n",
              "            <td style=\"padding: 0 1em 0 0.5em; text-align: right; border: none;\">\n",
              "                0.0003\n",
              "                \n",
              "                    &plusmn; 0.0005\n",
              "                \n",
              "            </td>\n",
              "            <td style=\"padding: 0 0.5em 0 0.5em; text-align: left; border: none;\">\n",
              "                LoanPurpose_Auto\n",
              "            </td>\n",
              "        </tr>\n",
              "    \n",
              "        <tr style=\"background-color: hsl(120, 100.00%, 94.61%); border: none;\">\n",
              "            <td style=\"padding: 0 1em 0 0.5em; text-align: right; border: none;\">\n",
              "                0.0002\n",
              "                \n",
              "                    &plusmn; 0.0008\n",
              "                \n",
              "            </td>\n",
              "            <td style=\"padding: 0 0.5em 0 0.5em; text-align: left; border: none;\">\n",
              "                MaritalStatus_Married\n",
              "            </td>\n",
              "        </tr>\n",
              "    \n",
              "        <tr style=\"background-color: hsl(120, 100.00%, 95.59%); border: none;\">\n",
              "            <td style=\"padding: 0 1em 0 0.5em; text-align: right; border: none;\">\n",
              "                0.0002\n",
              "                \n",
              "                    &plusmn; 0.0004\n",
              "                \n",
              "            </td>\n",
              "            <td style=\"padding: 0 0.5em 0 0.5em; text-align: left; border: none;\">\n",
              "                Education_High School\n",
              "            </td>\n",
              "        </tr>\n",
              "    \n",
              "        <tr style=\"background-color: hsl(120, 100.00%, 95.59%); border: none;\">\n",
              "            <td style=\"padding: 0 1em 0 0.5em; text-align: right; border: none;\">\n",
              "                0.0002\n",
              "                \n",
              "                    &plusmn; 0.0007\n",
              "                \n",
              "            </td>\n",
              "            <td style=\"padding: 0 0.5em 0 0.5em; text-align: left; border: none;\">\n",
              "                EmploymentType_Self-employed\n",
              "            </td>\n",
              "        </tr>\n",
              "    \n",
              "        <tr style=\"background-color: hsl(120, 100.00%, 96.68%); border: none;\">\n",
              "            <td style=\"padding: 0 1em 0 0.5em; text-align: right; border: none;\">\n",
              "                0.0001\n",
              "                \n",
              "                    &plusmn; 0.0018\n",
              "                \n",
              "            </td>\n",
              "            <td style=\"padding: 0 0.5em 0 0.5em; text-align: left; border: none;\">\n",
              "                Education_PhD\n",
              "            </td>\n",
              "        </tr>\n",
              "    \n",
              "        <tr style=\"background-color: hsl(120, 100.00%, 97.96%); border: none;\">\n",
              "            <td style=\"padding: 0 1em 0 0.5em; text-align: right; border: none;\">\n",
              "                0.0001\n",
              "                \n",
              "                    &plusmn; 0.0004\n",
              "                \n",
              "            </td>\n",
              "            <td style=\"padding: 0 0.5em 0 0.5em; text-align: left; border: none;\">\n",
              "                EmploymentType_Unemployed\n",
              "            </td>\n",
              "        </tr>\n",
              "    \n",
              "        <tr style=\"background-color: hsl(120, 100.00%, 97.96%); border: none;\">\n",
              "            <td style=\"padding: 0 1em 0 0.5em; text-align: right; border: none;\">\n",
              "                0.0001\n",
              "                \n",
              "                    &plusmn; 0.0002\n",
              "                \n",
              "            </td>\n",
              "            <td style=\"padding: 0 0.5em 0 0.5em; text-align: left; border: none;\">\n",
              "                LoanPurpose_Other\n",
              "            </td>\n",
              "        </tr>\n",
              "    \n",
              "        <tr style=\"background-color: hsl(120, 100.00%, 97.96%); border: none;\">\n",
              "            <td style=\"padding: 0 1em 0 0.5em; text-align: right; border: none;\">\n",
              "                0.0001\n",
              "                \n",
              "                    &plusmn; 0.0006\n",
              "                \n",
              "            </td>\n",
              "            <td style=\"padding: 0 0.5em 0 0.5em; text-align: left; border: none;\">\n",
              "                LoanPurpose_Education\n",
              "            </td>\n",
              "        </tr>\n",
              "    \n",
              "        <tr style=\"background-color: hsl(120, 100.00%, 97.96%); border: none;\">\n",
              "            <td style=\"padding: 0 1em 0 0.5em; text-align: right; border: none;\">\n",
              "                0.0001\n",
              "                \n",
              "                    &plusmn; 0.0009\n",
              "                \n",
              "            </td>\n",
              "            <td style=\"padding: 0 0.5em 0 0.5em; text-align: left; border: none;\">\n",
              "                HasCoSigner_Yes\n",
              "            </td>\n",
              "        </tr>\n",
              "    \n",
              "    \n",
              "        \n",
              "            <tr style=\"background-color: hsl(120, 100.00%, 97.96%); border: none;\">\n",
              "                <td colspan=\"2\" style=\"padding: 0 0.5em 0 0.5em; text-align: center; border: none; white-space: nowrap;\">\n",
              "                    <i>&hellip; 11 more &hellip;</i>\n",
              "                </td>\n",
              "            </tr>\n",
              "        \n",
              "    \n",
              "    </tbody>\n",
              "</table>\n",
              "    \n",
              "\n",
              "    \n",
              "\n",
              "\n",
              "    \n",
              "\n",
              "    \n",
              "\n",
              "    \n",
              "\n",
              "    \n",
              "\n",
              "    \n",
              "\n",
              "    \n",
              "\n",
              "\n",
              "\n"
            ]
          },
          "metadata": {},
          "execution_count": 62
        }
      ],
      "source": [
        "import eli5\n",
        "\n",
        "from eli5.sklearn import PermutationImportance\n",
        "\n",
        "perm = PermutationImportance(logmodel).fit(X_test, y_test)\n",
        "eli5.show_weights(perm,  feature_names = X.columns.tolist())"
      ]
    },
    {
      "cell_type": "code",
      "source": [
        "import pandas as pd\n",
        "import matplotlib.pyplot as plt\n",
        "\n",
        "\n",
        "age_bins = [0, 25, 40, 60, 80]\n",
        "\n",
        "age_summary = loan.groupby(pd.cut(loan['Age'], bins=age_bins))['Default'].agg(['mean', 'size'])\n",
        "\n",
        "age_summary.reset_index(inplace=True)\n",
        "\n",
        "fig2, axs2 = plt.subplots(2, figsize=(8, 5))\n",
        "\n",
        "fig2.suptitle('Defaults by Age')\n",
        "\n",
        "bars1 = axs2[0].bar(age_summary.Age.astype('str'), age_summary['mean'])\n",
        "\n",
        "bars2 = axs2[1].bar(age_summary.Age.astype('str'), age_summary['size'])\n",
        "\n",
        "def add_bar_labels(ax, bars, decimal_points=True):\n",
        "    for bar in bars:\n",
        "        height = bar.get_height()\n",
        "        format_str = '{:.2f}' if decimal_points else '{:.0f}'\n",
        "        ax.annotate(format_str.format(height),\n",
        "                    xy=(bar.get_x() + bar.get_width() / 2, height),\n",
        "                    xytext=(0, -20),\n",
        "                    textcoords=\"offset points\",\n",
        "                    ha='center', va='bottom', fontsize=15)\n",
        "\n",
        "\n",
        "add_bar_labels(axs2[0], bars1)\n",
        "\n",
        "\n",
        "add_bar_labels(axs2[1], bars2, decimal_points=False)\n",
        "\n",
        "plt.tight_layout()\n",
        "plt.show()\n"
      ],
      "metadata": {
        "colab": {
          "base_uri": "https://localhost:8080/"
        },
        "id": "27V3-qImorn2",
        "outputId": "9f680eba-af87-4d6e-afc0-0790198534fb"
      },
      "execution_count": null,
      "outputs": [
        {
          "output_type": "display_data",
          "data": {
            "text/plain": [
              "<Figure size 800x500 with 2 Axes>"
            ],
            "image/png": "[encoded data removed]"
          },
          "metadata": {}
        }
      ]
    },
    {
      "cell_type": "code",
      "source": [
        "import pandas as pd\n",
        "import matplotlib.pyplot as plt\n",
        "\n",
        "employmenttype = loan.groupby('EmploymentType', as_index=False)['Default'].mean()\n",
        "\n",
        "employmenttype = employmenttype.merge(\n",
        "    loan.groupby('EmploymentType', as_index=False)['Default'].count(),\n",
        "    left_on='EmploymentType', right_on='EmploymentType', suffixes=(\"_rate\", \"_count\")\n",
        ")\n",
        "\n",
        "fig, axs = plt.subplots(2, figsize=(8, 5))\n",
        "\n",
        "fig.suptitle('Default by Employment Type')\n",
        "\n",
        "\n",
        "bars1 = axs[0].bar(employmenttype.EmploymentType, employmenttype.Default_rate)\n",
        "\n",
        "bars2 = axs[1].bar(employmenttype.EmploymentType, employmenttype.Default_count)\n",
        "\n",
        "def add_bar_labels(ax, bars, decimal_points=True):\n",
        "    for bar in bars:\n",
        "        height = bar.get_height()\n",
        "        format_str = '{:.2f}' if decimal_points else '{:.0f}'\n",
        "        ax.annotate(format_str.format(height),\n",
        "                    xy=(bar.get_x() + bar.get_width() / 2, height),\n",
        "                    xytext=(0, -20),\n",
        "                    textcoords=\"offset points\",\n",
        "                    ha='center', va='bottom', fontsize=15)\n",
        "\n",
        "add_bar_labels(axs[0], bars1)\n",
        "\n",
        "add_bar_labels(axs[1], bars2, decimal_points=False)\n",
        "\n",
        "plt.tight_layout()\n",
        "plt.show()\n"
      ],
      "metadata": {
        "colab": {
          "base_uri": "https://localhost:8080/",
          "height": 390
        },
        "id": "yA66Gm9PpIug",
        "outputId": "2c2eae01-a8ea-408c-9d58-89c885d2d08b"
      },
      "execution_count": null,
      "outputs": [
        {
          "output_type": "error",
          "ename": "KeyError",
          "evalue": "ignored",
          "traceback": [
            "\u001b[0;31m---------------------------------------------------------------------------\u001b[0m",
            "\u001b[0;31mKeyError\u001b[0m                                  Traceback (most recent call last)",
            "\u001b[0;32m<ipython-input-64-5b1d4783c389>\u001b[0m in \u001b[0;36m<cell line: 4>\u001b[0;34m()\u001b[0m\n\u001b[1;32m      2\u001b[0m \u001b[0;32mimport\u001b[0m \u001b[0mmatplotlib\u001b[0m\u001b[0;34m.\u001b[0m\u001b[0mpyplot\u001b[0m \u001b[0;32mas\u001b[0m \u001b[0mplt\u001b[0m\u001b[0;34m\u001b[0m\u001b[0;34m\u001b[0m\u001b[0m\n\u001b[1;32m      3\u001b[0m \u001b[0;34m\u001b[0m\u001b[0m\n\u001b[0;32m----> 4\u001b[0;31m \u001b[0memploymenttype\u001b[0m \u001b[0;34m=\u001b[0m \u001b[0mloan\u001b[0m\u001b[0;34m.\u001b[0m\u001b[0mgroupby\u001b[0m\u001b[0;34m(\u001b[0m\u001b[0;34m'EmploymentType'\u001b[0m\u001b[0;34m,\u001b[0m \u001b[0mas_index\u001b[0m\u001b[0;34m=\u001b[0m\u001b[0;32mFalse\u001b[0m\u001b[0;34m)\u001b[0m\u001b[0;34m[\u001b[0m\u001b[0;34m'Default'\u001b[0m\u001b[0;34m]\u001b[0m\u001b[0;34m.\u001b[0m\u001b[0mmean\u001b[0m\u001b[0;34m(\u001b[0m\u001b[0;34m)\u001b[0m\u001b[0;34m\u001b[0m\u001b[0;34m\u001b[0m\u001b[0m\n\u001b[0m\u001b[1;32m      5\u001b[0m \u001b[0;34m\u001b[0m\u001b[0m\n\u001b[1;32m      6\u001b[0m employmenttype = employmenttype.merge(\n",
            "\u001b[0;32m/usr/local/lib/python3.10/dist-packages/pandas/core/frame.py\u001b[0m in \u001b[0;36mgroupby\u001b[0;34m(self, by, axis, level, as_index, sort, group_keys, squeeze, observed, dropna)\u001b[0m\n\u001b[1;32m   8400\u001b[0m         \u001b[0maxis\u001b[0m \u001b[0;34m=\u001b[0m \u001b[0mself\u001b[0m\u001b[0;34m.\u001b[0m\u001b[0m_get_axis_number\u001b[0m\u001b[0;34m(\u001b[0m\u001b[0maxis\u001b[0m\u001b[0;34m)\u001b[0m\u001b[0;34m\u001b[0m\u001b[0;34m\u001b[0m\u001b[0m\n\u001b[1;32m   8401\u001b[0m \u001b[0;34m\u001b[0m\u001b[0m\n\u001b[0;32m-> 8402\u001b[0;31m         return DataFrameGroupBy(\n\u001b[0m\u001b[1;32m   8403\u001b[0m             \u001b[0mobj\u001b[0m\u001b[0;34m=\u001b[0m\u001b[0mself\u001b[0m\u001b[0;34m,\u001b[0m\u001b[0;34m\u001b[0m\u001b[0;34m\u001b[0m\u001b[0m\n\u001b[1;32m   8404\u001b[0m             \u001b[0mkeys\u001b[0m\u001b[0;34m=\u001b[0m\u001b[0mby\u001b[0m\u001b[0;34m,\u001b[0m\u001b[0;34m\u001b[0m\u001b[0;34m\u001b[0m\u001b[0m\n",
            "\u001b[0;32m/usr/local/lib/python3.10/dist-packages/pandas/core/groupby/groupby.py\u001b[0m in \u001b[0;36m__init__\u001b[0;34m(self, obj, keys, axis, level, grouper, exclusions, selection, as_index, sort, group_keys, squeeze, observed, mutated, dropna)\u001b[0m\n\u001b[1;32m    963\u001b[0m             \u001b[0;32mfrom\u001b[0m \u001b[0mpandas\u001b[0m\u001b[0;34m.\u001b[0m\u001b[0mcore\u001b[0m\u001b[0;34m.\u001b[0m\u001b[0mgroupby\u001b[0m\u001b[0;34m.\u001b[0m\u001b[0mgrouper\u001b[0m \u001b[0;32mimport\u001b[0m \u001b[0mget_grouper\u001b[0m\u001b[0;34m\u001b[0m\u001b[0;34m\u001b[0m\u001b[0m\n\u001b[1;32m    964\u001b[0m \u001b[0;34m\u001b[0m\u001b[0m\n\u001b[0;32m--> 965\u001b[0;31m             grouper, exclusions, obj = get_grouper(\n\u001b[0m\u001b[1;32m    966\u001b[0m                 \u001b[0mobj\u001b[0m\u001b[0;34m,\u001b[0m\u001b[0;34m\u001b[0m\u001b[0;34m\u001b[0m\u001b[0m\n\u001b[1;32m    967\u001b[0m                 \u001b[0mkeys\u001b[0m\u001b[0;34m,\u001b[0m\u001b[0;34m\u001b[0m\u001b[0;34m\u001b[0m\u001b[0m\n",
            "\u001b[0;32m/usr/local/lib/python3.10/dist-packages/pandas/core/groupby/grouper.py\u001b[0m in \u001b[0;36mget_grouper\u001b[0;34m(obj, key, axis, level, sort, observed, mutated, validate, dropna)\u001b[0m\n\u001b[1;32m    886\u001b[0m                 \u001b[0min_axis\u001b[0m\u001b[0;34m,\u001b[0m \u001b[0mlevel\u001b[0m\u001b[0;34m,\u001b[0m \u001b[0mgpr\u001b[0m \u001b[0;34m=\u001b[0m \u001b[0;32mFalse\u001b[0m\u001b[0;34m,\u001b[0m \u001b[0mgpr\u001b[0m\u001b[0;34m,\u001b[0m \u001b[0;32mNone\u001b[0m\u001b[0;34m\u001b[0m\u001b[0;34m\u001b[0m\u001b[0m\n\u001b[1;32m    887\u001b[0m             \u001b[0;32melse\u001b[0m\u001b[0;34m:\u001b[0m\u001b[0;34m\u001b[0m\u001b[0;34m\u001b[0m\u001b[0m\n\u001b[0;32m--> 888\u001b[0;31m                 \u001b[0;32mraise\u001b[0m \u001b[0mKeyError\u001b[0m\u001b[0;34m(\u001b[0m\u001b[0mgpr\u001b[0m\u001b[0;34m)\u001b[0m\u001b[0;34m\u001b[0m\u001b[0;34m\u001b[0m\u001b[0m\n\u001b[0m\u001b[1;32m    889\u001b[0m         \u001b[0;32melif\u001b[0m \u001b[0misinstance\u001b[0m\u001b[0;34m(\u001b[0m\u001b[0mgpr\u001b[0m\u001b[0;34m,\u001b[0m \u001b[0mGrouper\u001b[0m\u001b[0;34m)\u001b[0m \u001b[0;32mand\u001b[0m \u001b[0mgpr\u001b[0m\u001b[0;34m.\u001b[0m\u001b[0mkey\u001b[0m \u001b[0;32mis\u001b[0m \u001b[0;32mnot\u001b[0m \u001b[0;32mNone\u001b[0m\u001b[0;34m:\u001b[0m\u001b[0;34m\u001b[0m\u001b[0;34m\u001b[0m\u001b[0m\n\u001b[1;32m    890\u001b[0m             \u001b[0;31m# Add key to exclusions\u001b[0m\u001b[0;34m\u001b[0m\u001b[0;34m\u001b[0m\u001b[0m\n",
            "\u001b[0;31mKeyError\u001b[0m: 'EmploymentType'"
          ]
        }
      ]
    },
    {
      "cell_type": "code",
      "source": [
        "import pandas as pd\n",
        "import matplotlib.pyplot as plt\n",
        "\n",
        "\n",
        "income_bins = [0, 40000, 75000, 100000, 125000, 150000]\n",
        "\n",
        "income_summary = loan.groupby(pd.cut(loan['Income'], bins=income_bins))['Default'].agg(['mean', 'size'])\n",
        "\n",
        "income_summary.reset_index(inplace=True)\n",
        "\n",
        "fig2, axs2 = plt.subplots(2, figsize=(8,5))\n",
        "\n",
        "fig2.suptitle('Defaults by Income')\n",
        "\n",
        "\n",
        "bars1 = axs2[0].bar(income_summary.Income.astype('str'), income_summary['mean'])\n",
        "\n",
        "bars2 = axs2[1].bar(income_summary.Income.astype('str'), income_summary['size'])\n",
        "\n",
        "def add_bar_labels(ax, bars, decimal_points=True):\n",
        "    for bar in bars:\n",
        "        height = bar.get_height()\n",
        "        format_str = '{:.2f}' if decimal_points else '{:.0f}'\n",
        "        ax.annotate(format_str.format(height),\n",
        "                    xy=(bar.get_x() + bar.get_width() / 2, height),\n",
        "                    xytext=(0,-18),\n",
        "                    textcoords=\"offset points\",\n",
        "                    ha='center', va='bottom', fontsize=15)\n",
        "\n",
        "add_bar_labels(axs2[0], bars1)\n",
        "\n",
        "add_bar_labels(axs2[1], bars2, decimal_points=False)\n",
        "\n",
        "\n",
        "plt.tight_layout()\n",
        "plt.show()\n"
      ],
      "metadata": {
        "id": "DsFtmTEr0qv1"
      },
      "execution_count": null,
      "outputs": []
    },
    {
      "cell_type": "markdown",
      "metadata": {
        "id": "IwGtOezxFelN"
      },
      "source": [
        "False Positives: Incorrectly predicting that an applicant will default on a loan when they would not have, can lead to a loss of potential revenue for the institution. It also harms customer relationships and can lead to reputational damage if seen as overly cautious or unjust.\n"
      ]
    },
    {
      "cell_type": "markdown",
      "metadata": {
        "id": "eA8jvAVGGJLt"
      },
      "source": [
        "False Negatives: Failing to predict a default can have serious financial consequences, as it results in the loss of both principal and interest. Additionally, a high number of false negatives can signal to regulatory bodies that the institution's risk management practices are inadequate.\n"
      ]
    }
  ],
  "metadata": {
    "colab": {
      "provenance": []
    },
    "kernelspec": {
      "display_name": "Python 3",
      "name": "python3"
    },
    "language_info": {
      "name": "python"
    }
  },
  "nbformat": 4,
  "nbformat_minor": 0
}