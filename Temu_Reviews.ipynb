{
  "cells": [
    {
      "cell_type": "code",
      "execution_count": 1,
      "metadata": {
        "colab": {
          "base_uri": "https://localhost:8080/"
        },
        "id": "hBu_KD6hX_MF",
        "outputId": "c9d2a2da-4676-446c-befc-792019178850"
      },
      "outputs": [
        {
          "name": "stdout",
          "output_type": "stream",
          "text": [
            "    #         Reivew ID   Author Name  Rating  \\\n",
            "0   1  1704840000000000        tr**ey       0   \n",
            "1   4  1705050000000000       pa***32       0   \n",
            "2   9  1703180000000000       22***77       0   \n",
            "3  11  1703350000000000  Teresa Shaub       0   \n",
            "4  12  1703840000000000       mi***13       0   \n",
            "\n",
            "                                        Content           Date  \n",
            "0                                           NaN   3/30/24 5:54  \n",
            "1                                         nice    3/30/24 0:16  \n",
            "2            fits great on my bad glad i got it  3/29/24 12:33  \n",
            "3  awesome thanks easy to put on happy purchase   3/29/24 1:19  \n",
            "4                                   works great  3/28/24 23:05  \n"
          ]
        }
      ],
      "source": [
        "import pandas as pd\n",
        "\n",
        "# Assuming the files are uploaded directly to the main directory in Colab\n",
        "file_names = ['PetBed1_Updated.csv', 'PetBed2_Updated.csv', 'Updated_52in1.csv', 'Updated_ToolSet1.csv']\n",
        "dataframes = {}\n",
        "\n",
        "for file_name in file_names:\n",
        "    # Load each file and store it in a dictionary with its name as the key\n",
        "    dataframes[file_name] = pd.read_csv('/content/' + file_name)\n",
        "\n",
        "# Example: Display the first few rows of the 'PetBed1.csv' dataframe\n",
        "print(dataframes['PetBed1_Updated.csv'].head())"
      ]
    },
    {
      "cell_type": "code",
      "execution_count": 3,
      "metadata": {
        "colab": {
          "base_uri": "https://localhost:8080/"
        },
        "id": "2MEwSxJkvxMo",
        "outputId": "6f3a765f-7f85-4c3c-b460-e7004602c896"
      },
      "outputs": [
        {
          "name": "stderr",
          "output_type": "stream",
          "text": [
            "[nltk_data] Downloading package punkt to /root/nltk_data...\n",
            "[nltk_data]   Package punkt is already up-to-date!\n",
            "[nltk_data] Downloading package stopwords to /root/nltk_data...\n",
            "[nltk_data]   Package stopwords is already up-to-date!\n"
          ]
        },
        {
          "name": "stdout",
          "output_type": "stream",
          "text": [
            "Results for PetBed1_Updated.csv:\n",
            "              precision    recall  f1-score   support\n",
            "\n",
            "           0       0.97      0.92      0.94        37\n",
            "           1       0.70      0.88      0.78         8\n",
            "\n",
            "    accuracy                           0.91        45\n",
            "   macro avg       0.84      0.90      0.86        45\n",
            "weighted avg       0.92      0.91      0.91        45\n",
            "\n",
            "ROC AUC: 0.8682432432432432\n",
            "Top 10 keywords predicting Negative rating for PetBed1_Updated.csv: ['waterproof' 'bed' 'water' 'noise' 'like' 'proof' 'work' 'back' 'good'\n",
            " 'thin']\n",
            "\n",
            "\n",
            "Results for PetBed2_Updated.csv:\n",
            "              precision    recall  f1-score   support\n",
            "\n",
            "           0       0.84      0.92      0.87        72\n",
            "           1       0.45      0.28      0.34        18\n",
            "\n",
            "    accuracy                           0.79        90\n",
            "   macro avg       0.64      0.60      0.61        90\n",
            "weighted avg       0.76      0.79      0.77        90\n",
            "\n",
            "ROC AUC: 0.7885802469135803\n",
            "Top 10 keywords predicting Negative rating for PetBed2_Updated.csv: ['small' 'couch' 'thin' 'quality' 'doesnt' 'cover' 'waterproof' 'sofa'\n",
            " 'stay' 'expected']\n",
            "\n",
            "\n",
            "Results for Updated_52in1.csv:\n",
            "              precision    recall  f1-score   support\n",
            "\n",
            "           0       0.76      0.87      0.81        95\n",
            "           1       0.79      0.63      0.70        71\n",
            "\n",
            "    accuracy                           0.77       166\n",
            "   macro avg       0.78      0.75      0.76       166\n",
            "weighted avg       0.77      0.77      0.77       166\n",
            "\n",
            "ROC AUC: 0.843587842846553\n",
            "Top 10 keywords predicting Negative rating for Updated_52in1.csv: ['quality' 'one' 'use' 'good' 'tool' 'item' 'product' 'like' 'used'\n",
            " 'wrench']\n",
            "\n",
            "\n",
            "Results for Updated_ToolSet1.csv:\n",
            "              precision    recall  f1-score   support\n",
            "\n",
            "           0       0.79      0.94      0.86        48\n",
            "           1       0.73      0.40      0.52        20\n",
            "\n",
            "    accuracy                           0.78        68\n",
            "   macro avg       0.76      0.67      0.69        68\n",
            "weighted avg       0.77      0.78      0.76        68\n",
            "\n",
            "ROC AUC: 0.7630208333333333\n",
            "Top 10 keywords predicting Negative rating for Updated_ToolSet1.csv: ['quality' 'small' 'good' 'set' 'work' 'broke' 'use' 'made' 'like' 'first']\n",
            "\n",
            "\n"
          ]
        }
      ],
      "source": [
        "import pandas as pd\n",
        "import numpy as np\n",
        "from sklearn.feature_extraction.text import CountVectorizer\n",
        "from sklearn.naive_bayes import MultinomialNB\n",
        "from sklearn.model_selection import train_test_split\n",
        "from sklearn.metrics import classification_report, roc_auc_score\n",
        "from nltk.corpus import stopwords\n",
        "from nltk.tokenize import word_tokenize\n",
        "import nltk\n",
        "\n",
        "nltk.download('punkt')\n",
        "nltk.download('stopwords')\n",
        "\n",
        "file_paths = ['PetBed1_Updated.csv', 'PetBed2_Updated.csv', 'Updated_52in1.csv', 'Updated_ToolSet1.csv']\n",
        "\n",
        "# Function to preprocess text\n",
        "def preprocess(text):\n",
        "    if isinstance(text, str):\n",
        "        stop_words = set(stopwords.words('english'))\n",
        "        tokens = word_tokenize(text)\n",
        "        return ' '.join([w.lower() for w in tokens if w.isalpha() and w.lower() not in stop_words])\n",
        "    else:\n",
        "        return \"\"  # Return an empty string for non-string input\n",
        "\n",
        "# Process each file\n",
        "for file_path in file_paths:\n",
        "    # Load data\n",
        "    df = pd.read_csv(file_path)\n",
        "\n",
        "    # Preprocessing\n",
        "    df['processed_content'] = df['Content'].apply(preprocess)\n",
        "\n",
        "    # Feature Extraction\n",
        "    vectorizer = CountVectorizer()\n",
        "    X = vectorizer.fit_transform(df['processed_content'])\n",
        "    y = df['Rating']  # Use the 'Rating' column directly as it's already classified\n",
        "\n",
        "    # Splitting the data\n",
        "    X_train, X_test, y_train, y_test = train_test_split(X, y, test_size=0.2, stratify=y)\n",
        "\n",
        "    # Building and training the classifier\n",
        "    clf = MultinomialNB()\n",
        "    clf.fit(X_train, y_train)\n",
        "\n",
        "    # Get probabilities for calculating ROC AUC\n",
        "    y_probs = clf.predict_proba(X_test)[:, 1]  # probabilities for the positive class (flipped in labels)\n",
        "\n",
        "    # Evaluating the classifier\n",
        "    y_pred = clf.predict(X_test)\n",
        "    print(f\"Results for {file_path}:\")\n",
        "    print(classification_report(y_test, y_pred))\n",
        "    print(\"ROC AUC:\", roc_auc_score(y_test, y_probs))  # Calculate and print the ROC AUC\n",
        "\n",
        "    # Identify top features for negative reviews\n",
        "    feature_names = np.array(vectorizer.get_feature_names_out())\n",
        "    log_probs = clf.feature_log_prob_\n",
        "    top_negative_words = feature_names[np.argsort(log_probs[1])[::-1][:10]]\n",
        "    print(\"Top 10 keywords predicting Negative rating for \" + file_path + \":\", top_negative_words)\n",
        "    print(\"\\n\")\n"
      ]
    }
  ],
  "metadata": {
    "colab": {
      "provenance": []
    },
    "kernelspec": {
      "display_name": "Python 3",
      "name": "python3"
    },
    "language_info": {
      "name": "python"
    }
  },
  "nbformat": 4,
  "nbformat_minor": 0
}
